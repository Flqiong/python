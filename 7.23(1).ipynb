{
 "cells": [
  {
   "cell_type": "markdown",
   "metadata": {},
   "source": [
    "# 对象和类\n",
    "- 一个学生，一张桌子，一个圆都是对象\n",
    "- 对象是类的一个实例，你可以创建多个对象，创建类的一个实例过程被称为实例化，\n",
    "- 在Python中对象就是实例，而实例就是对象"
   ]
  },
  {
   "cell_type": "markdown",
   "metadata": {},
   "source": [
    "## 定义类\n",
    "class ClassName:\n",
    "\n",
    "    do something\n",
    "    \n",
    "- class 类的表示与def 一样\n",
    "- 类名最好使用驼峰式\n",
    "- 在Python2中类是需要继承基类object的，在Python中默认继承，可写可不写\n",
    "- 可以将普通代码理解为皮肤，而函数可以理解为内衣，那么类可以理解为外套"
   ]
  },
  {
   "cell_type": "code",
   "execution_count": 3,
   "metadata": {},
   "outputs": [],
   "source": [
    "#类必须初始化，使用self代表初始化自身\n",
    "class Joker:\n",
    "    def __init__(self):\n",
    "        print(\"初始化完毕\")\n",
    "    def print_(self):\n",
    "        print(\"ok\")"
   ]
  },
  {
   "cell_type": "code",
   "execution_count": 6,
   "metadata": {},
   "outputs": [
    {
     "name": "stdout",
     "output_type": "stream",
     "text": [
      "初始化完毕\n"
     ]
    }
   ],
   "source": [
    "J=Joker()"
   ]
  },
  {
   "cell_type": "code",
   "execution_count": 7,
   "metadata": {},
   "outputs": [
    {
     "name": "stdout",
     "output_type": "stream",
     "text": [
      "ok\n"
     ]
    }
   ],
   "source": [
    "J.print_()"
   ]
  },
  {
   "cell_type": "code",
   "execution_count": null,
   "metadata": {},
   "outputs": [],
   "source": [
    "#（）代表直接走初始化函数\n",
    "#类里面所有的函数中的第一个变量不再是参数，而是印记\n",
    "#在类中如果有参数需要多次使用，就可以将其设置共享参数"
   ]
  },
  {
   "cell_type": "code",
   "execution_count": 12,
   "metadata": {},
   "outputs": [],
   "source": [
    "class flq:\n",
    "    def __init__(self):\n",
    "        print(\"初始化完毕\")\n",
    "    def jiou(self,num1):\n",
    "        if num1 % 2 ==0:\n",
    "            print(num1,\"是偶数\")\n",
    "        if num1 % 2== 1:\n",
    "            print(num1,\"是奇数\")\n",
    "    def year(self,num2):\n",
    "        if (num2%100!=0 and num2 % 4 ==0) or num2 % 400 == 0:\n",
    "            print(num2,\"是闰年\")\n",
    "        else:\n",
    "            print(num2,\"不是闰年\")"
   ]
  },
  {
   "cell_type": "code",
   "execution_count": 13,
   "metadata": {},
   "outputs": [
    {
     "name": "stdout",
     "output_type": "stream",
     "text": [
      "初始化完毕\n"
     ]
    }
   ],
   "source": [
    "F=flq()"
   ]
  },
  {
   "cell_type": "code",
   "execution_count": 14,
   "metadata": {},
   "outputs": [
    {
     "name": "stdout",
     "output_type": "stream",
     "text": [
      "157 是奇数\n"
     ]
    }
   ],
   "source": [
    "F.jiou(157)"
   ]
  },
  {
   "cell_type": "code",
   "execution_count": 15,
   "metadata": {},
   "outputs": [
    {
     "name": "stdout",
     "output_type": "stream",
     "text": [
      "2018 不是闰年\n"
     ]
    }
   ],
   "source": [
    "F.year(2018)"
   ]
  },
  {
   "cell_type": "markdown",
   "metadata": {},
   "source": [
    "## 定义一个不含初始化__init__的简单类\n",
    "class ClassName:\n",
    "\n",
    "    joker = “Home”\n",
    "    \n",
    "    def func():\n",
    "        print('Worker')\n",
    "    \n",
    "- 尽量少使用"
   ]
  },
  {
   "cell_type": "code",
   "execution_count": null,
   "metadata": {},
   "outputs": [],
   "source": []
  },
  {
   "cell_type": "markdown",
   "metadata": {},
   "source": [
    "\n",
    "\n",
    "## 定义一个标准类\n",
    "- __init__ 代表初始化，可以初始化任何动作\n",
    "- 此时类调用要使用()，其中（）可以理解为开始初始化\n",
    "- 初始化内的元素，类中其他的函数可以共享\n",
    "![](../Photo/85.png)"
   ]
  },
  {
   "cell_type": "markdown",
   "metadata": {},
   "source": [
    "- Circle 和 className_ 的第一个区别有 __init__ 这个函数\n",
    "- 。。。。   第二个区别，类中的每一个函数都有self的这个“参数”"
   ]
  },
  {
   "cell_type": "markdown",
   "metadata": {},
   "source": [
    "## 何为self？\n",
    "- self 是指向对象本身的参数\n",
    "- self 只是一个命名规则，其实可以改变的，但是我们约定俗成的是self，也便于理解\n",
    "- 使用了self就可以访问类中定义的成员\n",
    "<img src=\"../Photo/86.png\"></img>"
   ]
  },
  {
   "cell_type": "markdown",
   "metadata": {},
   "source": [
    "## 使用类 Cirlcle"
   ]
  },
  {
   "cell_type": "markdown",
   "metadata": {},
   "source": [
    "## 类的传参\n",
    "- class ClassName:\n",
    "    \n",
    "        def __init__(self, para1,para2...)：\n",
    "            \n",
    "            self.para1 = para1\n",
    "            \n",
    "            self.para2 = para2"
   ]
  },
  {
   "cell_type": "markdown",
   "metadata": {},
   "source": [
    "## EP:\n",
    "- A：定义一个类，类中含有两个功能：\n",
    "    - 1、产生3个随机数，获取最大值\n",
    "    - 2、产生3个随机数，获取最小值\n",
    "- B：定义一个类，（类中函数的嵌套使用）\n",
    "    - 1、第一个函数的功能为：输入一个数字\n",
    "    - 2、第二个函数的功能为：使用第一个函数中得到的数字进行平方处理\n",
    "    - 3、第三个函数的功能为：得到平方处理后的数字 - 原来输入的数字，并打印结果"
   ]
  },
  {
   "cell_type": "code",
   "execution_count": 30,
   "metadata": {},
   "outputs": [],
   "source": [
    "class qiantao:\n",
    "    def __init__(self,n):\n",
    "        print(\"初始化完毕\")\n",
    "        #参数共享\n",
    "        self.n = n\n",
    "        print(self.n)\n",
    "    def input_(self):\n",
    "        return self.n\n",
    "    def pingfang(self):\n",
    "        return  self.n**2\n",
    "    def cha(self):\n",
    "        return self.n**2 - self.n"
   ]
  },
  {
   "cell_type": "code",
   "execution_count": 31,
   "metadata": {},
   "outputs": [
    {
     "name": "stdout",
     "output_type": "stream",
     "text": [
      "初始化完毕\n",
      "1\n"
     ]
    }
   ],
   "source": [
    "Q=qiantao(1)"
   ]
  },
  {
   "cell_type": "code",
   "execution_count": 32,
   "metadata": {},
   "outputs": [
    {
     "data": {
      "text/plain": [
       "1"
      ]
     },
     "execution_count": 32,
     "metadata": {},
     "output_type": "execute_result"
    }
   ],
   "source": [
    "Q.input_()"
   ]
  },
  {
   "cell_type": "code",
   "execution_count": 33,
   "metadata": {},
   "outputs": [
    {
     "data": {
      "text/plain": [
       "1"
      ]
     },
     "execution_count": 33,
     "metadata": {},
     "output_type": "execute_result"
    }
   ],
   "source": [
    "Q.pingfang()"
   ]
  },
  {
   "cell_type": "code",
   "execution_count": 34,
   "metadata": {},
   "outputs": [
    {
     "data": {
      "text/plain": [
       "0"
      ]
     },
     "execution_count": 34,
     "metadata": {},
     "output_type": "execute_result"
    }
   ],
   "source": [
    "Q.cha()"
   ]
  },
  {
   "cell_type": "code",
   "execution_count": 17,
   "metadata": {},
   "outputs": [],
   "source": [
    "import random"
   ]
  },
  {
   "cell_type": "code",
   "execution_count": 19,
   "metadata": {},
   "outputs": [],
   "source": [
    "class lei:\n",
    "    def __init__(self):\n",
    "        print(\"初始化完毕\")\n",
    "    def zuida(self):\n",
    "        a=random.randint(1,100)\n",
    "        b=random.randint(1,100)\n",
    "        c=random.randint(1,100)\n",
    "        print(a,b,c)\n",
    "        max_=max(a,b,c)\n",
    "        print(max_)\n",
    "    def zuixiao(self):\n",
    "        a=random.randint(1,100)\n",
    "        b=random.randint(1,100)\n",
    "        c=random.randint(1,100)\n",
    "        print(a,b,c)\n",
    "        min_=min(a,b,c)\n",
    "        print(min_)"
   ]
  },
  {
   "cell_type": "code",
   "execution_count": 20,
   "metadata": {},
   "outputs": [
    {
     "name": "stdout",
     "output_type": "stream",
     "text": [
      "初始化完毕\n"
     ]
    }
   ],
   "source": [
    "L=lei()"
   ]
  },
  {
   "cell_type": "code",
   "execution_count": 21,
   "metadata": {},
   "outputs": [
    {
     "name": "stdout",
     "output_type": "stream",
     "text": [
      "46 97 95\n",
      "97\n"
     ]
    }
   ],
   "source": [
    "L.zuida()"
   ]
  },
  {
   "cell_type": "code",
   "execution_count": 22,
   "metadata": {},
   "outputs": [
    {
     "name": "stdout",
     "output_type": "stream",
     "text": [
      "3 31 25\n",
      "3\n"
     ]
    }
   ],
   "source": [
    "L.zuixiao()"
   ]
  },
  {
   "cell_type": "markdown",
   "metadata": {},
   "source": [
    "整一个QQ登录"
   ]
  },
  {
   "cell_type": "code",
   "execution_count": 16,
   "metadata": {},
   "outputs": [],
   "source": [
    "import random\n",
    "class qq:\n",
    "    def __init__(self,h,m):\n",
    "        print(\"初始化完毕\")\n",
    "        #参数共享\n",
    "        self.h = h\n",
    "        self.m = m\n",
    "        print(self.h,m)\n",
    "    def input_(self):\n",
    "        a = eval(input(\"请输入账号>>\"))\n",
    "        b = eval(input(\"请输入密码>>\"))\n",
    "        if a == self.h and b== self.m:\n",
    "            print(\"ok\")\n",
    "        else:\n",
    "            while 1:\n",
    "                key=random.randint(1000,9999)\n",
    "                print(key)\n",
    "                k = eval(input(\">>\"))\n",
    "                if k==key:\n",
    "                    print(\"ok\")\n",
    "                    break\n",
    "                else:\n",
    "                    print(\"xxx\")\n",
    "        return self.h,self.m"
   ]
  },
  {
   "cell_type": "code",
   "execution_count": 17,
   "metadata": {},
   "outputs": [
    {
     "name": "stdout",
     "output_type": "stream",
     "text": [
      "初始化完毕\n",
      "1758327333 2\n"
     ]
    }
   ],
   "source": [
    "q=qq(1758327333,2)"
   ]
  },
  {
   "cell_type": "code",
   "execution_count": 18,
   "metadata": {},
   "outputs": [
    {
     "name": "stdout",
     "output_type": "stream",
     "text": [
      "请输入账号>>1758327333\n",
      "请输入密码>>3\n",
      "7953\n",
      ">>2222\n",
      "xxx\n",
      "1869\n",
      ">>1222\n",
      "xxx\n",
      "6390\n",
      ">>6390\n",
      "ok\n"
     ]
    },
    {
     "data": {
      "text/plain": [
       "(1758327333, 2)"
      ]
     },
     "execution_count": 18,
     "metadata": {},
     "output_type": "execute_result"
    }
   ],
   "source": [
    "q.input_()"
   ]
  },
  {
   "cell_type": "code",
   "execution_count": 46,
   "metadata": {},
   "outputs": [],
   "source": [
    "class QQ:\n",
    "    def __init__(self,hao,mima):\n",
    "        print(\"请登录\",hao,mima)\n",
    "        self.hao = hao\n",
    "        self.mima = mima\n",
    "        def ID_(self):\n",
    "            id_ = input(\"账号>>\")\n",
    "            key = input(\"密码>>\")\n",
    "            if id_ == self.hao and key == self.mima:\n",
    "                print(\"ok\")\n",
    "            else:\n",
    "                print(\"bye\")"
   ]
  },
  {
   "cell_type": "markdown",
   "metadata": {},
   "source": [
    "## 类的继承\n",
    "- 类的单继承\n",
    "- 类的多继承\n",
    "- 继承标识\n",
    ">  class SonClass(FatherClass):\n",
    "            \n",
    "            def __init__(self):\n",
    "            \n",
    "                FatherClass.__init__(self)"
   ]
  },
  {
   "cell_type": "code",
   "execution_count": null,
   "metadata": {},
   "outputs": [],
   "source": [
    "#多继承前面覆盖后面,自左向右\n",
    "#加两个下划线“__”表私有，不可继承\n",
    "#__查看所有方法和变量\n",
    "#调用私有变量：_类名__私有变量"
   ]
  },
  {
   "cell_type": "code",
   "execution_count": 35,
   "metadata": {},
   "outputs": [],
   "source": [
    "class A:\n",
    "    def __init__(self):\n",
    "        self.a='a'\n",
    "    def a_(self):\n",
    "        print(\"class A\")\n",
    "class B(A):\n",
    "    def __init__(self):\n",
    "        #Bjicheng A .\n",
    "        A.__init__(self)\n",
    "    def b_(self):\n",
    "        print(self.a)\n",
    "        self.a_\n",
    "        pass"
   ]
  },
  {
   "cell_type": "code",
   "execution_count": 36,
   "metadata": {},
   "outputs": [],
   "source": [
    "AA=A()"
   ]
  },
  {
   "cell_type": "code",
   "execution_count": 37,
   "metadata": {},
   "outputs": [],
   "source": [
    "BB=B()"
   ]
  },
  {
   "cell_type": "code",
   "execution_count": 38,
   "metadata": {},
   "outputs": [
    {
     "name": "stdout",
     "output_type": "stream",
     "text": [
      "class A\n"
     ]
    }
   ],
   "source": [
    "BB.a_()"
   ]
  },
  {
   "cell_type": "markdown",
   "metadata": {},
   "source": [
    "## 私有数据域(私有变量，或者私有函数)\n",
    "- 在Python中 变量名或者函数名使用双下划线代表私有  \\__Joker,   def \\__Joker():\n",
    "- 私有数据域不可继承,不可在外部调用，但可以在内部使用\n",
    "- 私有数据域强制继承   \\__dir__()"
   ]
  },
  {
   "cell_type": "markdown",
   "metadata": {},
   "source": [
    "![](../Photo/87.png)"
   ]
  },
  {
   "cell_type": "markdown",
   "metadata": {},
   "source": [
    "## EP:\n",
    "![](../Photo/88.png)\n",
    "![](../Photo/89.png)\n",
    "![](../Photo/90.png)\n"
   ]
  },
  {
   "cell_type": "markdown",
   "metadata": {},
   "source": [
    "@staticmethod\n",
    "@classmethod\n",
    "#静态调用"
   ]
  },
  {
   "cell_type": "markdown",
   "metadata": {},
   "source": [
    "## 类的其他\n",
    "- 类的封装\n",
    "    - 实际上就是将一类功能放在一起，方便未来进行管理\n",
    "- 类的继承（上面已经讲过）\n",
    "- 类的多态\n",
    "    - 包括装饰器：将放在以后处理高级类中教\n",
    "    - 装饰器的好处：当许多类中的函数需要使用同一个功能的时候，那么使用装饰器就会方便许多\n",
    "    - 装饰器是有固定的写法\n",
    "        - 其包括普通装饰器与带参装饰器"
   ]
  },
  {
   "cell_type": "markdown",
   "metadata": {},
   "source": [
    "# Homewor\n",
    "## UML类图可以不用画\n",
    "## UML 实际上就是一个思维图\n",
    "- 1\n",
    "![](../Photo/91.png)"
   ]
  },
  {
   "cell_type": "code",
   "execution_count": 48,
   "metadata": {},
   "outputs": [],
   "source": [
    "class Rectabgle:\n",
    "    def __init__(self):\n",
    "        \"\"\"\n",
    "        这里是初始化\n",
    "        \n",
    "        参数：\n",
    "        ————\n",
    "            None\n",
    "        \"\"\"\n",
    "        print(\"友好一点，告诉我可以继续活着\")\n",
    "        self.width = 1\n",
    "        self.height = 2\n",
    "        \"\"\"\n",
    "        输入给定的值1和2\n",
    "        \n",
    "        参数：\n",
    "        ————\n",
    "            None\n",
    "        \"\"\"\n",
    "    def getArea(self,width1,height1):\n",
    "        \"\"\"\n",
    "        计算面积\n",
    "        \n",
    "        参数：\n",
    "        ————\n",
    "            None\n",
    "        \"\"\"\n",
    "        Area = width1 * height1\n",
    "        print(Area)\n",
    "        return self.width * self.height\n",
    "    def getPerimeter(self,width2,height2):\n",
    "        \"\"\"\n",
    "        计算周长\n",
    "        \n",
    "        参数：\n",
    "        ————\n",
    "            None\n",
    "        \"\"\"\n",
    "        Perimeter = 2 * (width2 + height2)\n",
    "        print(Perimeter)\n",
    "        return 2*(self.width + self.height)"
   ]
  },
  {
   "cell_type": "code",
   "execution_count": 49,
   "metadata": {},
   "outputs": [
    {
     "name": "stdout",
     "output_type": "stream",
     "text": [
      "友好一点，告诉我可以继续活着\n"
     ]
    }
   ],
   "source": [
    "Circle = Rectabgle()"
   ]
  },
  {
   "cell_type": "code",
   "execution_count": 50,
   "metadata": {},
   "outputs": [
    {
     "name": "stdout",
     "output_type": "stream",
     "text": [
      "160\n"
     ]
    },
    {
     "data": {
      "text/plain": [
       "2"
      ]
     },
     "execution_count": 50,
     "metadata": {},
     "output_type": "execute_result"
    }
   ],
   "source": [
    "Circle.getArea(4,40)"
   ]
  },
  {
   "cell_type": "code",
   "execution_count": 51,
   "metadata": {},
   "outputs": [
    {
     "name": "stdout",
     "output_type": "stream",
     "text": [
      "78.4\n"
     ]
    },
    {
     "data": {
      "text/plain": [
       "6"
      ]
     },
     "execution_count": 51,
     "metadata": {},
     "output_type": "execute_result"
    }
   ],
   "source": [
    "Circle.getPerimeter(3.5,35.7)"
   ]
  },
  {
   "cell_type": "markdown",
   "metadata": {},
   "source": [
    "- 2\n",
    "![](../Photo/92.png)"
   ]
  },
  {
   "cell_type": "code",
   "execution_count": 90,
   "metadata": {},
   "outputs": [],
   "source": [
    "class Account:\n",
    "    def __init__(self,id_,balance,annualInterestRate):\n",
    "        \"\"\"\n",
    "        初始化操作\n",
    "        \n",
    "        参数\n",
    "        ————\n",
    "            id，金额，年利率\n",
    "        \"\"\"\n",
    "        self.id_ = id_\n",
    "        self.balance = balance\n",
    "        self.annualInterestRate = annualInterestRate\n",
    "        print(\"ID是\",id_,\"账户额\",balance)\n",
    "    def gouzao(self):\n",
    "        idd = 0\n",
    "        balance = 100\n",
    "        annualInterestRate = 0\n",
    "        \"\"\"\n",
    "        以上三个我也不知道是干啥的\n",
    "        \"\"\"\n",
    "    def fangwen(self):\n",
    "        \"\"\"\n",
    "        这个是访问的，修改器我也不会做\n",
    "        \n",
    "        参数\n",
    "        ————\n",
    "            None\n",
    "        \"\"\"\n",
    "        print(self.id_,self.balance,self.annualInterestRate)\n",
    "        \n",
    "    def getMonthliInterestRate(self):\n",
    "        \"\"\"\n",
    "        计算月利率，好像有点错误一会儿再看\n",
    "        \n",
    "        参数\n",
    "        ————\n",
    "            None\n",
    "        \"\"\"\n",
    "        return self.annualInterestRate / 12\n",
    "    def getMonthliInterest(self):\n",
    "        \"\"\"\n",
    "        计算月利息，不能赋值，咱也不知道该咋整，咱也不敢问\n",
    "        \n",
    "        参数\n",
    "        ————\n",
    "            None\n",
    "        \"\"\"\n",
    "        return self.balance * self.annualInterestRate / 12\n",
    "    def withdraw(self):\n",
    "        \"\"\"\n",
    "        这是一个取钱的函数\n",
    "        \n",
    "        参数\n",
    "        ————\n",
    "            None\n",
    "        \"\"\"\n",
    "        quchu = eval(input(\"请输入金额>>\"))\n",
    "        print(\"账户已成功取出\",quchu)\n",
    "    def deposit(self):\n",
    "        \"\"\"\n",
    "        这是一个存钱的函数\n",
    "        \n",
    "        参数\n",
    "        ————\n",
    "            None\n",
    "        \"\"\"\n",
    "        cunru = eval(input(\"请输入金额>>\"))\n",
    "        print(\"账户已成功到账\",cunru)\n",
    "    def Start(self):\n",
    "        \"\"\"\n",
    "        这是一个综合的最后启动的函数\n",
    "        \n",
    "        参数\n",
    "        ————\n",
    "            None\n",
    "        \"\"\"\n",
    "        self.getMonthliInterestRate()\n",
    "        self.getMonthliInterest()\n",
    "        self.withdraw()\n",
    "        self.deposit()\n",
    "        return self.annualInterestRate / 12,self.balance * self.annualInterestRate / 12"
   ]
  },
  {
   "cell_type": "code",
   "execution_count": 91,
   "metadata": {},
   "outputs": [
    {
     "name": "stdout",
     "output_type": "stream",
     "text": [
      "ID是 1122 账户额 20000\n"
     ]
    }
   ],
   "source": [
    "A=Account(1122,20000,4.5)"
   ]
  },
  {
   "cell_type": "code",
   "execution_count": 92,
   "metadata": {},
   "outputs": [
    {
     "data": {
      "text/plain": [
       "0.375"
      ]
     },
     "execution_count": 92,
     "metadata": {},
     "output_type": "execute_result"
    }
   ],
   "source": [
    "A.getMonthliInterestRate()"
   ]
  },
  {
   "cell_type": "code",
   "execution_count": 93,
   "metadata": {},
   "outputs": [
    {
     "data": {
      "text/plain": [
       "7500.0"
      ]
     },
     "execution_count": 93,
     "metadata": {},
     "output_type": "execute_result"
    }
   ],
   "source": [
    "A.getMonthliInterest()"
   ]
  },
  {
   "cell_type": "code",
   "execution_count": 94,
   "metadata": {},
   "outputs": [
    {
     "name": "stdout",
     "output_type": "stream",
     "text": [
      "请输入金额>>2500\n",
      "账户已成功取出 2500\n"
     ]
    }
   ],
   "source": [
    "A.withdraw()"
   ]
  },
  {
   "cell_type": "code",
   "execution_count": 95,
   "metadata": {},
   "outputs": [
    {
     "name": "stdout",
     "output_type": "stream",
     "text": [
      "请输入金额>>3000\n",
      "账户已成功到账 3000\n"
     ]
    }
   ],
   "source": [
    "A.deposit()"
   ]
  },
  {
   "cell_type": "code",
   "execution_count": 96,
   "metadata": {},
   "outputs": [
    {
     "name": "stdout",
     "output_type": "stream",
     "text": [
      "请输入金额>>2550\n",
      "账户已成功取出 2550\n",
      "请输入金额>>3000\n",
      "账户已成功到账 3000\n"
     ]
    },
    {
     "data": {
      "text/plain": [
       "(0.375, 7500.0)"
      ]
     },
     "execution_count": 96,
     "metadata": {},
     "output_type": "execute_result"
    }
   ],
   "source": [
    "A.Start()"
   ]
  },
  {
   "cell_type": "markdown",
   "metadata": {},
   "source": [
    "- 3\n",
    "![](../Photo/93.png)"
   ]
  },
  {
   "cell_type": "code",
   "execution_count": 15,
   "metadata": {},
   "outputs": [
    {
     "name": "stdout",
     "output_type": "stream",
     "text": [
      ">>1\n",
      "True\n"
     ]
    }
   ],
   "source": [
    "b = eval(input(\">>\"))\n",
    "bool_ = bool(b)\n",
    "print(bool_)\n",
    "\"\"\"\n",
    "This is bool hanshu！\n",
    "\"\"\""
   ]
  },
  {
   "cell_type": "code",
   "execution_count": 105,
   "metadata": {},
   "outputs": [],
   "source": [
    "class F:\n",
    "    def __init__(self):\n",
    "        \"\"\"\n",
    "        初始化一下子\n",
    "        \n",
    "        参数\n",
    "        ————\n",
    "            None\n",
    "        \"\"\"\n",
    "        print(\"ok\")\n",
    "    def speed(self,a):\n",
    "        \"\"\"\n",
    "        给风扇速度赋值\n",
    "        \n",
    "        参数\n",
    "        ————\n",
    "            a\n",
    "        \"\"\"\n",
    "        if a == 1:\n",
    "            print('slow')\n",
    "        if a == 2:\n",
    "            print('medium')\n",
    "        if a == 3:\n",
    "            print('fast')\n",
    "    def on(self,b):\n",
    "        \"\"\"\n",
    "        布尔定开关\n",
    "        \n",
    "        参数\n",
    "        ————\n",
    "            b\n",
    "        \"\"\"\n",
    "        bool_ = bool(b)\n",
    "        print(bool_)\n",
    "    def radius(self,c):\n",
    "        \"\"\"\n",
    "        输入半径\n",
    "        \n",
    "        参数\n",
    "        ————\n",
    "            c\n",
    "        \"\"\"\n",
    "        print(c)\n",
    "    def color(self,d):\n",
    "        \"\"\"\n",
    "        输入颜色的函数\n",
    "        \n",
    "        参数\n",
    "        ————\n",
    "            d\n",
    "        \"\"\"\n",
    "        if d == 0:\n",
    "            color_ = \"blue\"\n",
    "        if d == 1:\n",
    "            color_ = \"yellow\"\n",
    "        c_ = color_\n",
    "        return c_"
   ]
  },
  {
   "cell_type": "code",
   "execution_count": 106,
   "metadata": {},
   "outputs": [
    {
     "name": "stdout",
     "output_type": "stream",
     "text": [
      "ok\n"
     ]
    }
   ],
   "source": [
    "fan=F()"
   ]
  },
  {
   "cell_type": "code",
   "execution_count": 107,
   "metadata": {},
   "outputs": [
    {
     "name": "stdout",
     "output_type": "stream",
     "text": [
      "fast\n"
     ]
    }
   ],
   "source": [
    "fan.speed(3)"
   ]
  },
  {
   "cell_type": "code",
   "execution_count": 108,
   "metadata": {},
   "outputs": [
    {
     "name": "stdout",
     "output_type": "stream",
     "text": [
      "True\n"
     ]
    }
   ],
   "source": [
    "fan.on(1)"
   ]
  },
  {
   "cell_type": "code",
   "execution_count": 109,
   "metadata": {},
   "outputs": [
    {
     "name": "stdout",
     "output_type": "stream",
     "text": [
      "5\n"
     ]
    }
   ],
   "source": [
    "fan.radius(5)"
   ]
  },
  {
   "cell_type": "code",
   "execution_count": 110,
   "metadata": {},
   "outputs": [
    {
     "data": {
      "text/plain": [
       "'yellow'"
      ]
     },
     "execution_count": 110,
     "metadata": {},
     "output_type": "execute_result"
    }
   ],
   "source": [
    "fan.color(1)"
   ]
  },
  {
   "cell_type": "code",
   "execution_count": 111,
   "metadata": {},
   "outputs": [],
   "source": [
    "class Fan:\n",
    "    \"\"\"\n",
    "        这是一个错误的类\n",
    "    \"\"\"\n",
    "    def __init__(self,slow,medium,fast):\n",
    "        \"\"\"\n",
    "        初始化一下\n",
    "        \n",
    "        参数\n",
    "        ————\n",
    "            slow,medium,fast\n",
    "        \"\"\"\n",
    "        print(\"初始化完毕\",slow,medium,fast)\n",
    "    def speed(self):\n",
    "        print(\"speed\")\n",
    "    def on(self):\n",
    "        print(\"on\")\n",
    "    def radius(self):\n",
    "        print(\"kk\")\n",
    "    def color(self):\n",
    "        print(\"gg\")\n",
    "    def xiugai(self,a,b,c,d):\n",
    "        a = self.speed\n",
    "        b = self.on\n",
    "        c = self.radius\n",
    "        d = self.color\n",
    "        print(a,b,c,d)\n",
    "    def Start(self):\n",
    "        self.speed\n",
    "        self.on\n",
    "        self.radius\n",
    "        self.color"
   ]
  },
  {
   "cell_type": "code",
   "execution_count": 112,
   "metadata": {},
   "outputs": [
    {
     "name": "stdout",
     "output_type": "stream",
     "text": [
      "初始化完毕 1 2 3\n"
     ]
    }
   ],
   "source": [
    "ff = Fan(1,2,3)"
   ]
  },
  {
   "cell_type": "code",
   "execution_count": 113,
   "metadata": {},
   "outputs": [],
   "source": [
    "ff.Start()"
   ]
  },
  {
   "cell_type": "markdown",
   "metadata": {},
   "source": [
    "- 4\n",
    "![](../Photo/94.png)\n",
    "![](../Photo/95.png)"
   ]
  },
  {
   "cell_type": "code",
   "execution_count": 144,
   "metadata": {},
   "outputs": [],
   "source": [
    "import math\n",
    "class RegularPolygon:\n",
    "    def __init__(self,):\n",
    "        \"\"\"\n",
    "        初始化一下\n",
    "        \n",
    "        参数\n",
    "        ————\n",
    "            n,side,x,y\n",
    "        \"\"\"\n",
    "        self.n = n\n",
    "        self.side = side\n",
    "        self.x = x\n",
    "        self.y = y\n",
    "        print(n,side,x,y)\n",
    "    def moren(self):\n",
    "        \"\"\"\n",
    "        默认值但是没啥用\n",
    "        \n",
    "        参数\n",
    "        ————\n",
    "            none\n",
    "        \"\"\"\n",
    "        n = 3\n",
    "        side = 1\n",
    "        x = 0\n",
    "        y = 0\n",
    "    def getPerimeter(self):\n",
    "        \"\"\"\n",
    "        计算周长\n",
    "        \n",
    "        参数\n",
    "        ————\n",
    "            None\n",
    "        \"\"\"\n",
    "        Perimeter = self.n * self.side\n",
    "        return Perimeter\n",
    "    def getArea(self):\n",
    "        \"\"\"\n",
    "        计算面积\n",
    "        \n",
    "        参数\n",
    "        ————\n",
    "            None\n",
    "        \"\"\"\n",
    "        Area = (self.n * self.side ** 2)/(4 * math.tan(math.pi / self.n))\n",
    "        return Area"
   ]
  },
  {
   "cell_type": "code",
   "execution_count": 145,
   "metadata": {},
   "outputs": [
    {
     "name": "stdout",
     "output_type": "stream",
     "text": [
      "10 4 5.6 7.8\n"
     ]
    }
   ],
   "source": [
    "re = RegularPolygon(10,4,5.6,7.8)"
   ]
  },
  {
   "cell_type": "code",
   "execution_count": 146,
   "metadata": {},
   "outputs": [
    {
     "data": {
      "text/plain": [
       "123.10734148701015"
      ]
     },
     "execution_count": 146,
     "metadata": {},
     "output_type": "execute_result"
    }
   ],
   "source": [
    "re.getArea()"
   ]
  },
  {
   "cell_type": "code",
   "execution_count": 147,
   "metadata": {},
   "outputs": [
    {
     "data": {
      "text/plain": [
       "40"
      ]
     },
     "execution_count": 147,
     "metadata": {},
     "output_type": "execute_result"
    }
   ],
   "source": [
    "re.getPerimeter()"
   ]
  },
  {
   "cell_type": "markdown",
   "metadata": {},
   "source": [
    "- 5\n",
    "![](../Photo/96.png)"
   ]
  },
  {
   "cell_type": "code",
   "execution_count": 167,
   "metadata": {},
   "outputs": [],
   "source": [
    "class LinearEquation:\n",
    "    def __init__(self,a,b,c,d,e,f):\n",
    "        \"\"\"\n",
    "        初始化一下\n",
    "        \n",
    "        参数\n",
    "        ————\n",
    "            a,b,c,d,e,f\n",
    "        \"\"\"\n",
    "        self.a = a\n",
    "        self.b = b\n",
    "        self.c = c\n",
    "        self.d = d\n",
    "        self.e = e\n",
    "        self.f = f\n",
    "        print(\"a,b,c,d,e,f\")\n",
    "    def isSolvable(self):\n",
    "        \"\"\"\n",
    "        计算解是否存在\n",
    "        \n",
    "        参数\n",
    "        ————\n",
    "            None\n",
    "        \"\"\"\n",
    "        i = self.a * self.d - self.b * self.c\n",
    "        if i == 0:\n",
    "            print(\"此方程无解\")\n",
    "        else:\n",
    "            print(\"ture\")\n",
    "    def getX(self):\n",
    "        \"\"\"\n",
    "        计算X\n",
    "        \n",
    "        参数\n",
    "        ————\n",
    "            None\n",
    "        \"\"\"\n",
    "        X = (self.e * self.d - self.b * self.f) / (self.a * self.d - self.b * self.c) \n",
    "        print(X)\n",
    "    def getY(self):\n",
    "        \"\"\"\n",
    "        计算Y\n",
    "        \n",
    "        参数\n",
    "        ————\n",
    "            None\n",
    "        \"\"\"\n",
    "        Y = (self.a * self.f - self.e * self.c) / (self.a * self.d - self.b * self.c) \n",
    "        print(Y)"
   ]
  },
  {
   "cell_type": "code",
   "execution_count": 168,
   "metadata": {},
   "outputs": [
    {
     "name": "stdout",
     "output_type": "stream",
     "text": [
      "a,b,c,d,e,f\n"
     ]
    }
   ],
   "source": [
    "LE = LinearEquation(2,1,1,1,3,3)"
   ]
  },
  {
   "cell_type": "code",
   "execution_count": 169,
   "metadata": {},
   "outputs": [
    {
     "name": "stdout",
     "output_type": "stream",
     "text": [
      "ture\n"
     ]
    }
   ],
   "source": [
    "LE.isSolvable()"
   ]
  },
  {
   "cell_type": "code",
   "execution_count": 170,
   "metadata": {},
   "outputs": [
    {
     "name": "stdout",
     "output_type": "stream",
     "text": [
      "0.0\n"
     ]
    }
   ],
   "source": [
    "LE.getX()"
   ]
  },
  {
   "cell_type": "code",
   "execution_count": 171,
   "metadata": {},
   "outputs": [
    {
     "name": "stdout",
     "output_type": "stream",
     "text": [
      "3.0\n"
     ]
    }
   ],
   "source": [
    "LE.getY()"
   ]
  },
  {
   "cell_type": "markdown",
   "metadata": {},
   "source": [
    "- 6\n",
    "![](../Photo/97.png)"
   ]
  },
  {
   "cell_type": "code",
   "execution_count": 210,
   "metadata": {},
   "outputs": [],
   "source": [
    "class Jiaodian:\n",
    "    def __init__(self,x1,y1,x2,y2,x3,y3,x4,y4):\n",
    "        \"\"\"\n",
    "        初始化一下\n",
    "        \n",
    "        参数\n",
    "        ————\n",
    "            x1,y1,x2,y2,x3,y3,x4,y4\n",
    "        \"\"\"\n",
    "        self.x1 = x1\n",
    "        self.y1 = y1\n",
    "        self.x2 = x2\n",
    "        self.y2 = y2\n",
    "        self.x3 = x3\n",
    "        self.y3 = y3\n",
    "        self.x4 = x4\n",
    "        self.y4 = y4\n",
    "        print(\"您输入的端点为：\",\"(\",x1,\",\",y1,\")\",\"(\",x2,\",\",y2,\")\",\"(\",x3,\",\",y3,\")\",\"(\",x4,\",\",y4,\")\")\n",
    "    def getxian1(self):\n",
    "        \"\"\"\n",
    "        计算方程1\n",
    "        \n",
    "        参数\n",
    "        ————\n",
    "            None\n",
    "        \"\"\"\n",
    "        a = self.y1 - self.y2\n",
    "        b = self.x1 - self.x2\n",
    "        e = self.y1 - a / b * self.x1\n",
    "        self.a = a\n",
    "        self.b = b\n",
    "        self.e = e\n",
    "        print(\"y\",\"=\",\"-\",a,\"/\",b,\"x\",\"+\",e)\n",
    "    def getxian2(self):\n",
    "        \"\"\"\n",
    "        计算方程2\n",
    "        \n",
    "        参数\n",
    "        ————\n",
    "            None\n",
    "        \"\"\"\n",
    "        c = self.y3 - self.y4\n",
    "        d = self.x1 - self.x4\n",
    "        f = self.y3 - c / d * self.x3\n",
    "        self.c = c\n",
    "        self.d = d\n",
    "        self.f = f\n",
    "        print(\"y\",\"=\",\"-\",c,\"/\",d,\"x\",\"+\",f)\n",
    "    def getJiaoDian(self):\n",
    "        \"\"\"\n",
    "        计算X,Y。有点算错了好像\n",
    "        \n",
    "        参数\n",
    "        ————\n",
    "            None\n",
    "        \"\"\"\n",
    "        X = (self.e * self.d - self.b * self.f) / (self.a * self.d - self.b * self.c) \n",
    "        Y = (self.a * self.f - self.e * self.c) / (self.a * self.d - self.b * self.c)\n",
    "        print(X,Y)"
   ]
  },
  {
   "cell_type": "code",
   "execution_count": 211,
   "metadata": {},
   "outputs": [
    {
     "name": "stdout",
     "output_type": "stream",
     "text": [
      "您输入的端点为： ( 0 , 0 ) ( 1 , 1 ) ( 1 , 1 ) ( 2 , 1 )\n"
     ]
    }
   ],
   "source": [
    "jd = Jiaodian(0,0,1,1,1,1,2,1)"
   ]
  },
  {
   "cell_type": "code",
   "execution_count": 212,
   "metadata": {},
   "outputs": [
    {
     "name": "stdout",
     "output_type": "stream",
     "text": [
      "y = - -1 / -1 x + 0.0\n"
     ]
    }
   ],
   "source": [
    "jd.getxian1()"
   ]
  },
  {
   "cell_type": "code",
   "execution_count": 213,
   "metadata": {},
   "outputs": [
    {
     "name": "stdout",
     "output_type": "stream",
     "text": [
      "y = - 0 / -2 x + 1.0\n"
     ]
    }
   ],
   "source": [
    "jd.getxian2()"
   ]
  },
  {
   "cell_type": "code",
   "execution_count": 214,
   "metadata": {},
   "outputs": [
    {
     "name": "stdout",
     "output_type": "stream",
     "text": [
      "0.5 -0.5\n"
     ]
    }
   ],
   "source": [
    "jd.getJiaoDian()"
   ]
  },
  {
   "cell_type": "markdown",
   "metadata": {},
   "source": [
    "- 7\n",
    "![](../Photo/98.png)"
   ]
  }
 ],
 "metadata": {
  "kernelspec": {
   "display_name": "Python 3",
   "language": "python",
   "name": "python3"
  },
  "language_info": {
   "codemirror_mode": {
    "name": "ipython",
    "version": 3
   },
   "file_extension": ".py",
   "mimetype": "text/x-python",
   "name": "python",
   "nbconvert_exporter": "python",
   "pygments_lexer": "ipython3",
   "version": "3.7.3"
  }
 },
 "nbformat": 4,
 "nbformat_minor": 2
}
