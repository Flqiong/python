{
 "cells": [
  {
   "cell_type": "markdown",
   "metadata": {},
   "source": [
    "# 函数\n",
    "\n",
    "- 函数可以用来定义可重复代码，组织和简化\n",
    "- 一般来说一个函数在实际开发中为一个小功能\n",
    "- 一个类为一个大功能\n",
    "- 同样函数的长度不要超过一屏"
   ]
  },
  {
   "cell_type": "markdown",
   "metadata": {},
   "source": [
    "Python中的所有函数实际上都是有返回值(return None),\n",
    "\n",
    "如果你没有设置return,那么Python将不显示None.\n",
    "\n",
    "如果你设置return,那么将返回出return这个值."
   ]
  },
  {
   "cell_type": "code",
   "execution_count": 3,
   "metadata": {},
   "outputs": [],
   "source": [
    "def FLQ(name):\n",
    "    print(name,\"chaohaokan\")"
   ]
  },
  {
   "cell_type": "code",
   "execution_count": 5,
   "metadata": {
    "scrolled": true
   },
   "outputs": [
    {
     "name": "stdout",
     "output_type": "stream",
     "text": [
      "lll chaohaokan\n"
     ]
    }
   ],
   "source": [
    "FLQ('lll')"
   ]
  },
  {
   "cell_type": "markdown",
   "metadata": {},
   "source": [
    "*参数默认值必须放在最后；\n"
   ]
  },
  {
   "cell_type": "code",
   "execution_count": 10,
   "metadata": {},
   "outputs": [],
   "source": [
    "def JIOU(shu):\n",
    "    if shu%2==0:\n",
    "        print(shu,\"是偶数\")\n",
    "    if shu%2==1:\n",
    "        print(shu,\"是奇数\")"
   ]
  },
  {
   "cell_type": "code",
   "execution_count": 12,
   "metadata": {},
   "outputs": [
    {
     "name": "stdout",
     "output_type": "stream",
     "text": [
      "153 是奇数\n"
     ]
    }
   ],
   "source": [
    "JIOU(153)"
   ]
  },
  {
   "cell_type": "markdown",
   "metadata": {},
   "source": [
    "# return"
   ]
  },
  {
   "cell_type": "markdown",
   "metadata": {},
   "source": [
    "每个函数都有返回值，只是不打印。除非认为打印。"
   ]
  },
  {
   "cell_type": "code",
   "execution_count": 16,
   "metadata": {},
   "outputs": [],
   "source": [
    "def max_(n1,n2,n3):\n",
    "    z=max(n1,n2,n3)\n",
    "    return z"
   ]
  },
  {
   "cell_type": "code",
   "execution_count": 17,
   "metadata": {},
   "outputs": [
    {
     "data": {
      "text/plain": [
       "5"
      ]
     },
     "execution_count": 17,
     "metadata": {},
     "output_type": "execute_result"
    }
   ],
   "source": [
    "max_(1,5,4)"
   ]
  },
  {
   "cell_type": "code",
   "execution_count": 22,
   "metadata": {},
   "outputs": [],
   "source": [
    "def da(n1,n2,n3):\n",
    "    if n1>n2 or n1>n3:\n",
    "        r=n1\n",
    "    if n2>n1 or n2>n3:\n",
    "        r=n2\n",
    "    else:\n",
    "        r=n3\n",
    "    return r"
   ]
  },
  {
   "cell_type": "code",
   "execution_count": 23,
   "metadata": {},
   "outputs": [
    {
     "data": {
      "text/plain": [
       "8"
      ]
     },
     "execution_count": 23,
     "metadata": {},
     "output_type": "execute_result"
    }
   ],
   "source": [
    "da(1,8,3)"
   ]
  },
  {
   "cell_type": "code",
   "execution_count": 24,
   "metadata": {},
   "outputs": [
    {
     "data": {
      "text/plain": [
       "45554"
      ]
     },
     "execution_count": 24,
     "metadata": {},
     "output_type": "execute_result"
    }
   ],
   "source": [
    "da(185,123,45554)"
   ]
  },
  {
   "cell_type": "code",
   "execution_count": 14,
   "metadata": {},
   "outputs": [
    {
     "name": "stdout",
     "output_type": "stream",
     "text": [
      "6\n"
     ]
    }
   ],
   "source": [
    "z=max(1,5,6)\n",
    "print(z)"
   ]
  },
  {
   "cell_type": "code",
   "execution_count": 35,
   "metadata": {},
   "outputs": [],
   "source": [
    "import random"
   ]
  },
  {
   "cell_type": "code",
   "execution_count": 47,
   "metadata": {},
   "outputs": [],
   "source": [
    "def suiji(a):\n",
    "    b=random.randint(1,100)\n",
    "    if a>b:\n",
    "        r=\"太大\"\n",
    "    if a<b:\n",
    "        r=\"太小\"\n",
    "    else:\n",
    "        r=\"嘻嘻嘻\"\n",
    "    return r"
   ]
  },
  {
   "cell_type": "code",
   "execution_count": 48,
   "metadata": {},
   "outputs": [
    {
     "data": {
      "text/plain": [
       "'太小'"
      ]
     },
     "execution_count": 48,
     "metadata": {},
     "output_type": "execute_result"
    }
   ],
   "source": [
    "suiji(8)"
   ]
  },
  {
   "cell_type": "code",
   "execution_count": 53,
   "metadata": {},
   "outputs": [
    {
     "data": {
      "text/plain": [
       "'嘻嘻嘻'"
      ]
     },
     "execution_count": 53,
     "metadata": {},
     "output_type": "execute_result"
    }
   ],
   "source": [
    "suiji(44)"
   ]
  },
  {
   "cell_type": "code",
   "execution_count": 55,
   "metadata": {},
   "outputs": [],
   "source": [
    "def caidaxiao(a):\n",
    "    while 1:\n",
    "        b=random.randint(1,100)\n",
    "        if a==b:\n",
    "            print(\"ok\")\n",
    "            break\n",
    "        elif a<b:\n",
    "            print(\"xiao\")\n",
    "        elif a>b:\n",
    "            print(\"da\")"
   ]
  },
  {
   "cell_type": "code",
   "execution_count": 56,
   "metadata": {},
   "outputs": [
    {
     "name": "stdout",
     "output_type": "stream",
     "text": [
      "xiao\n",
      "xiao\n",
      "xiao\n",
      "xiao\n",
      "xiao\n",
      "xiao\n",
      "xiao\n",
      "xiao\n",
      "xiao\n",
      "xiao\n",
      "xiao\n",
      "xiao\n",
      "xiao\n",
      "xiao\n",
      "xiao\n",
      "xiao\n",
      "xiao\n",
      "xiao\n",
      "xiao\n",
      "xiao\n",
      "xiao\n",
      "xiao\n",
      "xiao\n",
      "xiao\n",
      "xiao\n",
      "xiao\n",
      "xiao\n",
      "xiao\n",
      "xiao\n",
      "xiao\n",
      "xiao\n",
      "xiao\n",
      "xiao\n",
      "xiao\n",
      "xiao\n",
      "xiao\n",
      "xiao\n",
      "xiao\n",
      "xiao\n",
      "xiao\n",
      "xiao\n",
      "xiao\n",
      "xiao\n",
      "xiao\n",
      "xiao\n",
      "xiao\n",
      "xiao\n",
      "xiao\n",
      "xiao\n",
      "xiao\n",
      "xiao\n",
      "xiao\n",
      "xiao\n",
      "xiao\n",
      "xiao\n",
      "xiao\n",
      "ok\n"
     ]
    }
   ],
   "source": [
    "caidaxiao(5)"
   ]
  },
  {
   "cell_type": "markdown",
   "metadata": {},
   "source": [
    "## 定义一个函数\n",
    "\n",
    "def function_name(list of parameters):\n",
    "    \n",
    "    do something\n",
    "![](../Photo/69.png)\n",
    "- 以前使用的random 或者range 或者print.. 其实都是函数或者类"
   ]
  },
  {
   "cell_type": "markdown",
   "metadata": {},
   "source": [
    "函数的参数如果有默认值的情况,当你调用该函数的时候:\n",
    "可以不给予参数值,那么就会走该参数的默认值\n",
    "否则的话,就走你给予的参数值."
   ]
  },
  {
   "cell_type": "markdown",
   "metadata": {},
   "source": [
    "## 调用一个函数\n",
    "- functionName()\n",
    "- \"()\" 就代表调用"
   ]
  },
  {
   "cell_type": "markdown",
   "metadata": {},
   "source": [
    "![](../Photo/70.png)"
   ]
  },
  {
   "cell_type": "markdown",
   "metadata": {},
   "source": [
    "## 带返回值和不带返回值的函数\n",
    "- return 返回的内容\n",
    "- return 返回多个值\n",
    "- 一般情况下，在多个函数协同完成一个功能的时候，那么将会有返回值"
   ]
  },
  {
   "cell_type": "markdown",
   "metadata": {},
   "source": [
    "![](../Photo/71.png)\n",
    "\n",
    "- 当然也可以自定义返回None"
   ]
  },
  {
   "cell_type": "markdown",
   "metadata": {},
   "source": [
    "## EP：\n",
    "![](../Photo/72.png)"
   ]
  },
  {
   "cell_type": "markdown",
   "metadata": {},
   "source": [
    "## 类型和关键字参数\n",
    "- 普通参数\n",
    "- 多个参数\n",
    "- 默认值参数\n",
    "- 不定长参数"
   ]
  },
  {
   "cell_type": "markdown",
   "metadata": {},
   "source": [
    "## 普通参数"
   ]
  },
  {
   "cell_type": "markdown",
   "metadata": {},
   "source": [
    "## 多个参数"
   ]
  },
  {
   "cell_type": "markdown",
   "metadata": {},
   "source": [
    "## 默认值参数"
   ]
  },
  {
   "cell_type": "markdown",
   "metadata": {},
   "source": [
    "## 强制命名"
   ]
  },
  {
   "cell_type": "markdown",
   "metadata": {},
   "source": [
    "## 不定长参数\n",
    "- \\*args\n",
    "> - 不定长，来多少装多少，不装也是可以的\n",
    "  - 返回的数据类型是元组\n",
    "  - args 名字是可以修改的，只是我们约定俗成的是args\n",
    "- \\**kwargs \n",
    "> - 返回的字典\n",
    "  - 输入的一定要是表达式（键值对）\n",
    "- name,\\*args,name2,\\**kwargs  使用参数名"
   ]
  },
  {
   "cell_type": "code",
   "execution_count": 27,
   "metadata": {},
   "outputs": [
    {
     "name": "stdout",
     "output_type": "stream",
     "text": [
      ">>h\n",
      "104\n"
     ]
    }
   ],
   "source": [
    "zimu=input(\">>\")\n",
    "kk=ord(zimu)\n",
    "print(kk)"
   ]
  },
  {
   "cell_type": "code",
   "execution_count": 40,
   "metadata": {},
   "outputs": [],
   "source": [
    "def asc1_(name):\n",
    "    number = ord(name)\n",
    "    print(number)"
   ]
  },
  {
   "cell_type": "code",
   "execution_count": 41,
   "metadata": {},
   "outputs": [
    {
     "name": "stdout",
     "output_type": "stream",
     "text": [
      "106\n"
     ]
    }
   ],
   "source": [
    "asc1_('j')"
   ]
  },
  {
   "cell_type": "code",
   "execution_count": 42,
   "metadata": {},
   "outputs": [],
   "source": [
    "def asc_(num):\n",
    "    number = ord(num)\n",
    "    daxie=0\n",
    "    xiaoxie=0\n",
    "    shuzi=0\n",
    "    if 65 <= number <= 90:\n",
    "        daxie += 1\n",
    "    elif 97<= number <=122:\n",
    "        xiaoxie += 1\n",
    "    elif 48<= number <= 57:\n",
    "        shuzi += 1\n",
    "    print(daxie,xiaoxie,shuzi)"
   ]
  },
  {
   "cell_type": "code",
   "execution_count": 49,
   "metadata": {},
   "outputs": [
    {
     "name": "stdout",
     "output_type": "stream",
     "text": [
      "0 0 1\n"
     ]
    }
   ],
   "source": [
    "asc_('5')"
   ]
  },
  {
   "cell_type": "code",
   "execution_count": 16,
   "metadata": {},
   "outputs": [
    {
     "name": "stdout",
     "output_type": "stream",
     "text": [
      "hhh\n"
     ]
    }
   ],
   "source": [
    "shi(479)"
   ]
  },
  {
   "cell_type": "code",
   "execution_count": 1,
   "metadata": {},
   "outputs": [],
   "source": [
    "def tongji(*args):\n",
    "    for i in args:\n",
    "        number = ord(i)\n",
    "        daxie=0\n",
    "        xiaoxie=0\n",
    "        shuzi=0\n",
    "        if 65 <= number <= 90:\n",
    "            daxie += 1\n",
    "        elif 97<= number <=122:\n",
    "            xiaoxie += 1\n",
    "        elif 48<= number <= 57:\n",
    "            shuzi += 1\n",
    "        print(daxie,xiaoxie,shuzi)"
   ]
  },
  {
   "cell_type": "code",
   "execution_count": 10,
   "metadata": {},
   "outputs": [
    {
     "ename": "NameError",
     "evalue": "name 'a' is not defined",
     "output_type": "error",
     "traceback": [
      "\u001b[1;31m---------------------------------------------------------------------------\u001b[0m",
      "\u001b[1;31mNameError\u001b[0m                                 Traceback (most recent call last)",
      "\u001b[1;32m<ipython-input-10-33aa4629741b>\u001b[0m in \u001b[0;36m<module>\u001b[1;34m\u001b[0m\n\u001b[1;32m----> 1\u001b[1;33m \u001b[0mtongji\u001b[0m\u001b[1;33m(\u001b[0m\u001b[0ma\u001b[0m\u001b[1;33m)\u001b[0m\u001b[1;33m\u001b[0m\u001b[1;33m\u001b[0m\u001b[0m\n\u001b[0m",
      "\u001b[1;31mNameError\u001b[0m: name 'a' is not defined"
     ]
    }
   ],
   "source": [
    "tongji(a)"
   ]
  },
  {
   "cell_type": "code",
   "execution_count": 8,
   "metadata": {},
   "outputs": [
    {
     "name": "stdout",
     "output_type": "stream",
     "text": [
      ">>9\n",
      "0 0 1\n"
     ]
    }
   ],
   "source": [
    "i=input(\">>\")\n",
    "number = ord(i)\n",
    "daxie=0\n",
    "xiaoxie=0\n",
    "shuzi=0\n",
    "if 65 <= number <= 90:\n",
    "    daxie += 1\n",
    "elif 97<= number <=122:\n",
    "    xiaoxie += 1\n",
    "elif 48<= number <= 57:\n",
    "    shuzi += 1\n",
    "print(daxie,xiaoxie,shuzi)"
   ]
  },
  {
   "cell_type": "code",
   "execution_count": null,
   "metadata": {},
   "outputs": [],
   "source": [
    "\n",
    "for i in args:\n",
    "        number = ord(i)\n",
    "        daxie=0\n",
    "        xiaoxie=0\n",
    "        shuzi=0\n",
    "        if 65 <= number <= 90:\n",
    "            daxie += 1\n",
    "        elif 97<= number <=122:\n",
    "            xiaoxie += 1\n",
    "        elif 48<= number <= 57:\n",
    "            shuzi += 1\n",
    "        print(daxie,xiaoxie,shuzi)"
   ]
  },
  {
   "cell_type": "markdown",
   "metadata": {},
   "source": [
    "## 变量的作用域\n",
    "- 局部变量 local\n",
    "- 全局变量 global\n",
    "- globals 函数返回一个全局变量的字典，包括所有导入的变量\n",
    "- locals() 函数会以字典类型返回当前位置的全部局部变量。"
   ]
  },
  {
   "cell_type": "markdown",
   "metadata": {},
   "source": [
    "## 注意：\n",
    "- global ：在进行赋值操作的时候需要声明\n",
    "- 官方解释：This is because when you make an assignment to a variable in a scope, that variable becomes local to that scope and shadows any similarly named variable in the outer scope.\n",
    "- ![](../Photo/73.png)"
   ]
  },
  {
   "cell_type": "code",
   "execution_count": 54,
   "metadata": {},
   "outputs": [],
   "source": [
    "def SUM(n):\n",
    "    res = 0\n",
    "    if n % 2 == 0:\n",
    "        for i in range(2,n+1,2):\n",
    "            res += 1/i\n",
    "    else:\n",
    "        for j in range(1,n+1,2):\n",
    "            res += 1/j\n",
    "    return res"
   ]
  },
  {
   "cell_type": "code",
   "execution_count": 55,
   "metadata": {},
   "outputs": [
    {
     "data": {
      "text/plain": [
       "1.5333333333333332"
      ]
     },
     "execution_count": 55,
     "metadata": {},
     "output_type": "execute_result"
    }
   ],
   "source": [
    "SUM(5)"
   ]
  },
  {
   "cell_type": "code",
   "execution_count": 63,
   "metadata": {},
   "outputs": [
    {
     "name": "stdout",
     "output_type": "stream",
     "text": [
      ">>4\n",
      "44\n"
     ]
    }
   ],
   "source": [
    "a=input(\">>\")\n",
    "b=a*2\n",
    "print(b)"
   ]
  },
  {
   "cell_type": "code",
   "execution_count": 88,
   "metadata": {},
   "outputs": [],
   "source": [
    "def B( ):\n",
    "    a = input(\">>\")\n",
    "    n = int(input(\">>\"))\n",
    "    res=0\n",
    "    for i in range(0,n+1):\n",
    "        print(n+1)\n",
    "        res += int(a)*10**n\n",
    "    print(res)"
   ]
  },
  {
   "cell_type": "code",
   "execution_count": 89,
   "metadata": {},
   "outputs": [
    {
     "name": "stdout",
     "output_type": "stream",
     "text": [
      ">>4\n",
      ">>3\n",
      "4\n",
      "4\n",
      "4\n",
      "4\n",
      "16000\n"
     ]
    }
   ],
   "source": [
    "B()"
   ]
  },
  {
   "cell_type": "code",
   "execution_count": 102,
   "metadata": {},
   "outputs": [],
   "source": [
    "def C( ):\n",
    "    a = input(\">>\")\n",
    "    n = int(input(\">>\"))\n",
    "    res = 0\n",
    "    for j in range(4):\n",
    "        print(n)\n",
    "        for i in range(j+1):\n",
    "            print(j+1)\n",
    "            res += int(a)*10**n\n",
    "    print(res)"
   ]
  },
  {
   "cell_type": "code",
   "execution_count": 103,
   "metadata": {},
   "outputs": [
    {
     "name": "stdout",
     "output_type": "stream",
     "text": [
      ">>2\n",
      ">>3\n",
      "3\n",
      "1\n",
      "3\n",
      "2\n",
      "2\n",
      "3\n",
      "3\n",
      "3\n",
      "3\n",
      "3\n",
      "4\n",
      "4\n",
      "4\n",
      "4\n",
      "20000\n"
     ]
    }
   ],
   "source": [
    "C()"
   ]
  },
  {
   "cell_type": "code",
   "execution_count": 69,
   "metadata": {},
   "outputs": [
    {
     "name": "stdout",
     "output_type": "stream",
     "text": [
      ">>4\n",
      "几次2\n",
      "44\n"
     ]
    }
   ],
   "source": [
    "def A( ):\n",
    "    num = input(\">>\")\n",
    "    "
   ]
  },
  {
   "cell_type": "code",
   "execution_count": 130,
   "metadata": {},
   "outputs": [],
   "source": [
    "def jiecheng():\n",
    "    n = int(input(\">>\"))\n",
    "    for i in range(n,1,1):\n",
    "        jc=0\n",
    "        rres=0\n",
    "        for j in range(1,i+1):\n",
    "            rres *=n\n",
    "            jc += rres\n",
    "    print(jc)"
   ]
  },
  {
   "cell_type": "code",
   "execution_count": 131,
   "metadata": {},
   "outputs": [
    {
     "name": "stdout",
     "output_type": "stream",
     "text": [
      ">>2\n"
     ]
    },
    {
     "ename": "UnboundLocalError",
     "evalue": "local variable 'jc' referenced before assignment",
     "output_type": "error",
     "traceback": [
      "\u001b[1;31m---------------------------------------------------------------------------\u001b[0m",
      "\u001b[1;31mUnboundLocalError\u001b[0m                         Traceback (most recent call last)",
      "\u001b[1;32m<ipython-input-131-0aca0125a65d>\u001b[0m in \u001b[0;36m<module>\u001b[1;34m\u001b[0m\n\u001b[1;32m----> 1\u001b[1;33m \u001b[0mjiecheng\u001b[0m\u001b[1;33m(\u001b[0m\u001b[1;33m)\u001b[0m\u001b[1;33m\u001b[0m\u001b[1;33m\u001b[0m\u001b[0m\n\u001b[0m",
      "\u001b[1;32m<ipython-input-130-a5fad7d387a1>\u001b[0m in \u001b[0;36mjiecheng\u001b[1;34m()\u001b[0m\n\u001b[0;32m      7\u001b[0m             \u001b[0mrres\u001b[0m \u001b[1;33m*=\u001b[0m\u001b[0mn\u001b[0m\u001b[1;33m\u001b[0m\u001b[1;33m\u001b[0m\u001b[0m\n\u001b[0;32m      8\u001b[0m             \u001b[0mjc\u001b[0m \u001b[1;33m+=\u001b[0m \u001b[0mrres\u001b[0m\u001b[1;33m\u001b[0m\u001b[1;33m\u001b[0m\u001b[0m\n\u001b[1;32m----> 9\u001b[1;33m     \u001b[0mprint\u001b[0m\u001b[1;33m(\u001b[0m\u001b[0mjc\u001b[0m\u001b[1;33m)\u001b[0m\u001b[1;33m\u001b[0m\u001b[1;33m\u001b[0m\u001b[0m\n\u001b[0m",
      "\u001b[1;31mUnboundLocalError\u001b[0m: local variable 'jc' referenced before assignment"
     ]
    }
   ],
   "source": [
    "jiecheng()"
   ]
  },
  {
   "cell_type": "code",
   "execution_count": null,
   "metadata": {},
   "outputs": [],
   "source": [
    "def Gao():\n",
    "    for i in range(100,0):\n",
    "        for j in range(i/2,0):\n",
    "            res = 100+100*1/n"
   ]
  },
  {
   "cell_type": "code",
   "execution_count": 132,
   "metadata": {},
   "outputs": [
    {
     "data": {
      "text/plain": [
       "297.8375"
      ]
     },
     "execution_count": 132,
     "metadata": {},
     "output_type": "execute_result"
    }
   ],
   "source": [
    "100+50+50+25+25+12.5+12.5+6.25+6.25+3.125+3.125+1.5625+1.5625+0.18125+0.78125"
   ]
  },
  {
   "cell_type": "markdown",
   "metadata": {},
   "source": [
    "1+、求方差"
   ]
  },
  {
   "cell_type": "markdown",
   "metadata": {},
   "source": [
    "2+、汉罗塔游戏"
   ]
  },
  {
   "cell_type": "markdown",
   "metadata": {},
   "source": [
    "# Homework\n",
    "- 1\n",
    "![](../Photo/74.png)"
   ]
  },
  {
   "cell_type": "code",
   "execution_count": 159,
   "metadata": {},
   "outputs": [
    {
     "name": "stdout",
     "output_type": "stream",
     "text": [
      ">>5\n",
      "35.0 51.0 70.0 92.0 117.0 145.0 176.0 210.0 247.0 287.0 330.0 376.0 425.0 477.0 532.0 590.0 651.0 715.0 782.0 852.0 925.0 1001.0 1080.0 1162.0 1247.0 1335.0 1426.0 1520.0 1617.0 1717.0 1820.0 1926.0 2035.0 2147.0 2262.0 2380.0 2501.0 2625.0 2752.0 2882.0 3015.0 3151.0 3290.0 3432.0 3577.0 3725.0 3876.0 4030.0 4187.0 4347.0 4510.0 4676.0 4845.0 5017.0 5192.0 5370.0 5551.0 5735.0 5922.0 6112.0 6305.0 6501.0 6700.0 6902.0 7107.0 7315.0 7526.0 7740.0 7957.0 8177.0 8400.0 8626.0 8855.0 9087.0 9322.0 9560.0 9801.0 10045.0 10292.0 10542.0 10795.0 11051.0 11310.0 11572.0 11837.0 12105.0 12376.0 12650.0 12927.0 13207.0 13490.0 13776.0 14065.0 14357.0 14652.0 14950.0 15251.0 15555.0 15862.0 16172.0 "
     ]
    }
   ],
   "source": [
    "n = eval(input(\">>\"))\n",
    "for i in range(100):\n",
    "    a = n*(3*n-1)/2\n",
    "    n += 1\n",
    "    print(a,end=\" \")"
   ]
  },
  {
   "cell_type": "code",
   "execution_count": 166,
   "metadata": {},
   "outputs": [],
   "source": [
    "def getPentagona1Number(n):\n",
    "    i = 0\n",
    "    for i in range(100):\n",
    "        a = n*(3*n-1)/2\n",
    "        n += 1\n",
    "        i += 1\n",
    "        if (i-1)%10==0:\n",
    "            print(\" \")\n",
    "        print(a,end=\" \")"
   ]
  },
  {
   "cell_type": "code",
   "execution_count": 167,
   "metadata": {},
   "outputs": [
    {
     "name": "stdout",
     "output_type": "stream",
     "text": [
      " \n",
      "1.0 5.0 12.0 22.0 35.0 51.0 70.0 92.0 117.0 145.0  \n",
      "176.0 210.0 247.0 287.0 330.0 376.0 425.0 477.0 532.0 590.0  \n",
      "651.0 715.0 782.0 852.0 925.0 1001.0 1080.0 1162.0 1247.0 1335.0  \n",
      "1426.0 1520.0 1617.0 1717.0 1820.0 1926.0 2035.0 2147.0 2262.0 2380.0  \n",
      "2501.0 2625.0 2752.0 2882.0 3015.0 3151.0 3290.0 3432.0 3577.0 3725.0  \n",
      "3876.0 4030.0 4187.0 4347.0 4510.0 4676.0 4845.0 5017.0 5192.0 5370.0  \n",
      "5551.0 5735.0 5922.0 6112.0 6305.0 6501.0 6700.0 6902.0 7107.0 7315.0  \n",
      "7526.0 7740.0 7957.0 8177.0 8400.0 8626.0 8855.0 9087.0 9322.0 9560.0  \n",
      "9801.0 10045.0 10292.0 10542.0 10795.0 11051.0 11310.0 11572.0 11837.0 12105.0  \n",
      "12376.0 12650.0 12927.0 13207.0 13490.0 13776.0 14065.0 14357.0 14652.0 14950.0 "
     ]
    }
   ],
   "source": [
    "getPentagona1Number(1)"
   ]
  },
  {
   "cell_type": "markdown",
   "metadata": {},
   "source": [
    "顺利通过第一关~"
   ]
  },
  {
   "cell_type": "markdown",
   "metadata": {},
   "source": [
    "- 2 \n",
    "![](../Photo/75.png)"
   ]
  },
  {
   "cell_type": "code",
   "execution_count": 171,
   "metadata": {},
   "outputs": [
    {
     "name": "stdout",
     "output_type": "stream",
     "text": [
      ">>234\n",
      "9\n"
     ]
    }
   ],
   "source": [
    "n=eval(input(\">>\"))\n",
    "n_ge = n % 10\n",
    "n_shi = n // 10 % 10\n",
    "n_bai = n // 100\n",
    "sum_= n_ge + n_shi + n_bai\n",
    "print(sum_)"
   ]
  },
  {
   "cell_type": "markdown",
   "metadata": {},
   "source": [
    "第二题开始卡壳"
   ]
  },
  {
   "cell_type": "code",
   "execution_count": null,
   "metadata": {},
   "outputs": [],
   "source": [
    "for i in range(int(n)):\n",
    "    n_1 = n % 10"
   ]
  },
  {
   "cell_type": "markdown",
   "metadata": {},
   "source": [
    "- 3\n",
    "![](../Photo/76.png)"
   ]
  },
  {
   "cell_type": "code",
   "execution_count": 172,
   "metadata": {},
   "outputs": [],
   "source": [
    "def displaySortedNumber(num1,num2,num3):\n",
    "    if num1 < num2 and num2 < num3:\n",
    "        print(num1,num2,num3)\n",
    "    elif num1 < num3 and num3 < num2:\n",
    "        print(num1,num3,num2)\n",
    "    elif num2 < num1 and num1 < num3:\n",
    "        print(num2,num1,num3)\n",
    "    elif num2 < num3 and num3 < num1:\n",
    "        print(num2,num3,num1)\n",
    "    elif num3 < num2 and num2 < num1:\n",
    "        print(num3,num2,num1)\n",
    "    elif num3 < num1 and num1 < num2:\n",
    "        print(num3,num1,num2)\n",
    "   "
   ]
  },
  {
   "cell_type": "code",
   "execution_count": 173,
   "metadata": {},
   "outputs": [
    {
     "name": "stdout",
     "output_type": "stream",
     "text": [
      "2.4 3 5\n"
     ]
    }
   ],
   "source": [
    "displaySortedNumber(3,2.4,5)"
   ]
  },
  {
   "cell_type": "markdown",
   "metadata": {},
   "source": [
    "第三题完美的用了最low的方法"
   ]
  },
  {
   "cell_type": "markdown",
   "metadata": {},
   "source": [
    "- 4\n",
    "![](../Photo/77.png)"
   ]
  },
  {
   "cell_type": "markdown",
   "metadata": {},
   "source": [
    "题干好长，不想看"
   ]
  },
  {
   "cell_type": "code",
   "execution_count": null,
   "metadata": {},
   "outputs": [],
   "source": [
    "future = invers * year * 12 * "
   ]
  },
  {
   "cell_type": "markdown",
   "metadata": {},
   "source": [
    "我看了，不会算利率"
   ]
  },
  {
   "cell_type": "markdown",
   "metadata": {},
   "source": [
    "- 5\n",
    "![](../Photo/78.png)"
   ]
  },
  {
   "cell_type": "code",
   "execution_count": 243,
   "metadata": {},
   "outputs": [],
   "source": [
    "def printc(ch1,ch2,num):\n",
    "    r = 0\n",
    "    for a in range(ch1,ch2):\n",
    "        print(chr(a),end=\" \")\n",
    "        r += 1\n",
    "        if r%num == 0:\n",
    "            print(\"\")"
   ]
  },
  {
   "cell_type": "code",
   "execution_count": 244,
   "metadata": {},
   "outputs": [
    {
     "name": "stdout",
     "output_type": "stream",
     "text": [
      "- . / 0 1 2 3 4 5 6 \n",
      "7 8 9 : ; < = > ? @ \n",
      "A B C D E F G H I J \n",
      "K L M N O P Q R S T \n",
      "U V W X Y Z [ \\ ] ^ \n",
      "_ ` "
     ]
    }
   ],
   "source": [
    "printc(45,97,10)"
   ]
  },
  {
   "cell_type": "markdown",
   "metadata": {},
   "source": [
    "- 6\n",
    "![](../Photo/79.png)"
   ]
  },
  {
   "cell_type": "code",
   "execution_count": 239,
   "metadata": {},
   "outputs": [],
   "source": [
    "def NODI(year):\n",
    "    for a in range(year,2021):\n",
    "        if(a%100!=0) and (i%4==0) or (i%400==0):\n",
    "            print(a,\"有366天\")\n",
    "        else:\n",
    "            print(a,\"有365天\")"
   ]
  },
  {
   "cell_type": "code",
   "execution_count": 240,
   "metadata": {},
   "outputs": [
    {
     "name": "stdout",
     "output_type": "stream",
     "text": [
      "2010 有365天\n",
      "2011 有365天\n",
      "2012 有365天\n",
      "2013 有365天\n",
      "2014 有365天\n",
      "2015 有365天\n",
      "2016 有365天\n",
      "2017 有365天\n",
      "2018 有365天\n",
      "2019 有365天\n",
      "2020 有365天\n"
     ]
    }
   ],
   "source": [
    "NODI(2010)"
   ]
  },
  {
   "cell_type": "markdown",
   "metadata": {},
   "source": [
    "- 7\n",
    "![](../Photo/80.png)"
   ]
  },
  {
   "cell_type": "code",
   "execution_count": 195,
   "metadata": {},
   "outputs": [
    {
     "name": "stdout",
     "output_type": "stream",
     "text": [
      "2.8284271247461903\n"
     ]
    }
   ],
   "source": [
    "juli=((0-2)**2+(0-2)**2)**0.5\n",
    "print (juli)"
   ]
  },
  {
   "cell_type": "code",
   "execution_count": 229,
   "metadata": {},
   "outputs": [],
   "source": [
    "def distance(x1,y1,x2,y2):\n",
    "    juli=((x1-x2)**2+(y1-y2)**2)**0.5\n",
    "    print (juli)"
   ]
  },
  {
   "cell_type": "code",
   "execution_count": 230,
   "metadata": {},
   "outputs": [
    {
     "name": "stdout",
     "output_type": "stream",
     "text": [
      "1.4142135623730951\n"
     ]
    }
   ],
   "source": [
    "distance(0,0,1,1)"
   ]
  },
  {
   "cell_type": "code",
   "execution_count": 232,
   "metadata": {},
   "outputs": [
    {
     "name": "stdout",
     "output_type": "stream",
     "text": [
      "2.8284271247461903\n"
     ]
    }
   ],
   "source": [
    "distance(2,2,4,4)"
   ]
  },
  {
   "cell_type": "markdown",
   "metadata": {},
   "source": [
    "- 8\n",
    "![](../Photo/81.png)"
   ]
  },
  {
   "cell_type": "code",
   "execution_count": 216,
   "metadata": {},
   "outputs": [],
   "source": [
    "def meisen():\n",
    "    for a in range(2,32):\n",
    "        for b in range(2,a):\n",
    "            if a%b == 0:\n",
    "                break\n",
    "            else:\n",
    "                y = 2**a-1\n",
    "                print(a,y)"
   ]
  },
  {
   "cell_type": "code",
   "execution_count": 217,
   "metadata": {},
   "outputs": [
    {
     "name": "stdout",
     "output_type": "stream",
     "text": [
      "3 7\n",
      "5 31\n",
      "5 31\n",
      "5 31\n",
      "7 127\n",
      "7 127\n",
      "7 127\n",
      "7 127\n",
      "7 127\n",
      "9 511\n",
      "11 2047\n",
      "11 2047\n",
      "11 2047\n",
      "11 2047\n",
      "11 2047\n",
      "11 2047\n",
      "11 2047\n",
      "11 2047\n",
      "11 2047\n",
      "13 8191\n",
      "13 8191\n",
      "13 8191\n",
      "13 8191\n",
      "13 8191\n",
      "13 8191\n",
      "13 8191\n",
      "13 8191\n",
      "13 8191\n",
      "13 8191\n",
      "13 8191\n",
      "15 32767\n",
      "17 131071\n",
      "17 131071\n",
      "17 131071\n",
      "17 131071\n",
      "17 131071\n",
      "17 131071\n",
      "17 131071\n",
      "17 131071\n",
      "17 131071\n",
      "17 131071\n",
      "17 131071\n",
      "17 131071\n",
      "17 131071\n",
      "17 131071\n",
      "17 131071\n",
      "19 524287\n",
      "19 524287\n",
      "19 524287\n",
      "19 524287\n",
      "19 524287\n",
      "19 524287\n",
      "19 524287\n",
      "19 524287\n",
      "19 524287\n",
      "19 524287\n",
      "19 524287\n",
      "19 524287\n",
      "19 524287\n",
      "19 524287\n",
      "19 524287\n",
      "19 524287\n",
      "19 524287\n",
      "21 2097151\n",
      "23 8388607\n",
      "23 8388607\n",
      "23 8388607\n",
      "23 8388607\n",
      "23 8388607\n",
      "23 8388607\n",
      "23 8388607\n",
      "23 8388607\n",
      "23 8388607\n",
      "23 8388607\n",
      "23 8388607\n",
      "23 8388607\n",
      "23 8388607\n",
      "23 8388607\n",
      "23 8388607\n",
      "23 8388607\n",
      "23 8388607\n",
      "23 8388607\n",
      "23 8388607\n",
      "23 8388607\n",
      "23 8388607\n",
      "25 33554431\n",
      "25 33554431\n",
      "25 33554431\n",
      "27 134217727\n",
      "29 536870911\n",
      "29 536870911\n",
      "29 536870911\n",
      "29 536870911\n",
      "29 536870911\n",
      "29 536870911\n",
      "29 536870911\n",
      "29 536870911\n",
      "29 536870911\n",
      "29 536870911\n",
      "29 536870911\n",
      "29 536870911\n",
      "29 536870911\n",
      "29 536870911\n",
      "29 536870911\n",
      "29 536870911\n",
      "29 536870911\n",
      "29 536870911\n",
      "29 536870911\n",
      "29 536870911\n",
      "29 536870911\n",
      "29 536870911\n",
      "29 536870911\n",
      "29 536870911\n",
      "29 536870911\n",
      "29 536870911\n",
      "29 536870911\n",
      "31 2147483647\n",
      "31 2147483647\n",
      "31 2147483647\n",
      "31 2147483647\n",
      "31 2147483647\n",
      "31 2147483647\n",
      "31 2147483647\n",
      "31 2147483647\n",
      "31 2147483647\n",
      "31 2147483647\n",
      "31 2147483647\n",
      "31 2147483647\n",
      "31 2147483647\n",
      "31 2147483647\n",
      "31 2147483647\n",
      "31 2147483647\n",
      "31 2147483647\n",
      "31 2147483647\n",
      "31 2147483647\n",
      "31 2147483647\n",
      "31 2147483647\n",
      "31 2147483647\n",
      "31 2147483647\n",
      "31 2147483647\n",
      "31 2147483647\n",
      "31 2147483647\n",
      "31 2147483647\n",
      "31 2147483647\n",
      "31 2147483647\n"
     ]
    }
   ],
   "source": [
    "meisen()"
   ]
  },
  {
   "cell_type": "markdown",
   "metadata": {},
   "source": [
    "- 9\n",
    "![](../Photo/82.png)\n",
    "![](../Photo/83.png)"
   ]
  },
  {
   "cell_type": "code",
   "execution_count": 182,
   "metadata": {},
   "outputs": [
    {
     "name": "stdout",
     "output_type": "stream",
     "text": [
      ">>151\n",
      "0 : 0 : 31\n"
     ]
    }
   ],
   "source": [
    "n = eval(input(\">>\"))\n",
    "shi = 0\n",
    "fen = 0\n",
    "miao = n % 60 \n",
    "if miao == 60:\n",
    "    fen += 1\n",
    "    print(miao)\n",
    "    if fen == 60:\n",
    "        shi += 1\n",
    "        print(fen)\n",
    "print(shi,\":\",fen,\":\",miao)"
   ]
  },
  {
   "cell_type": "code",
   "execution_count": null,
   "metadata": {},
   "outputs": [],
   "source": [
    "def time.time()"
   ]
  },
  {
   "cell_type": "code",
   "execution_count": 183,
   "metadata": {},
   "outputs": [],
   "source": [
    "import time\n"
   ]
  },
  {
   "cell_type": "code",
   "execution_count": 185,
   "metadata": {},
   "outputs": [
    {
     "name": "stdout",
     "output_type": "stream",
     "text": [
      "本地时间为 time.struct_time(tm_year=2019, tm_mon=5, tm_mday=10, tm_hour=23, tm_min=15, tm_sec=49, tm_wday=4, tm_yday=130, tm_isdst=0)\n"
     ]
    }
   ],
   "source": [
    "localtime = (time.localtime(time.time()))\n",
    "print(\"本地时间为\",localtime)"
   ]
  },
  {
   "cell_type": "markdown",
   "metadata": {},
   "source": [
    "实在不行了，找一个现成代码直接打吧啊啊啊！记住就行"
   ]
  },
  {
   "cell_type": "markdown",
   "metadata": {},
   "source": [
    "- 10\n",
    "![](../Photo/84.png)"
   ]
  },
  {
   "cell_type": "code",
   "execution_count": 248,
   "metadata": {},
   "outputs": [],
   "source": [
    "import random"
   ]
  },
  {
   "cell_type": "code",
   "execution_count": 249,
   "metadata": {},
   "outputs": [],
   "source": [
    "def touzi():\n",
    "    a=random.randint(1,6)\n",
    "    b=random.randint(1,6)\n",
    "    c=a+b\n",
    "    r=0\n",
    "    if c==2 or c==3 or c==12:\n",
    "        print(\"你输了渣渣\")\n",
    "    elif c==7 or c==11:\n",
    "        print(\"你赢了宝贝\")\n",
    "    else:\n",
    "        r=c\n",
    "    while 1:\n",
    "        a1=random.randint(1,6)\n",
    "        b1=random.randint(1,6)\n",
    "        c1=a1+b1\n",
    "        print(\"第二次是\",c1)\n",
    "        if c1==r:\n",
    "            print(\"算你赢\")\n",
    "            break\n",
    "        elif c1==7:\n",
    "            print(\"渣渣别玩了吧\")\n",
    "            break"
   ]
  },
  {
   "cell_type": "code",
   "execution_count": 250,
   "metadata": {},
   "outputs": [
    {
     "name": "stdout",
     "output_type": "stream",
     "text": [
      "你赢了宝贝\n",
      "第二次是 3\n",
      "第二次是 5\n",
      "第二次是 10\n",
      "第二次是 6\n",
      "第二次是 12\n",
      "第二次是 8\n",
      "第二次是 12\n",
      "第二次是 5\n",
      "第二次是 5\n",
      "第二次是 3\n",
      "第二次是 8\n",
      "第二次是 5\n",
      "第二次是 5\n",
      "第二次是 3\n",
      "第二次是 5\n",
      "第二次是 10\n",
      "第二次是 10\n",
      "第二次是 3\n",
      "第二次是 7\n",
      "渣渣别玩了吧\n"
     ]
    }
   ],
   "source": [
    "touzi()"
   ]
  },
  {
   "cell_type": "markdown",
   "metadata": {},
   "source": [
    "- 11 \n",
    "### 去网上寻找如何用Python代码发送邮件"
   ]
  },
  {
   "cell_type": "markdown",
   "metadata": {},
   "source": [
    "ranhoune \n"
   ]
  },
  {
   "cell_type": "code",
   "execution_count": null,
   "metadata": {},
   "outputs": [],
   "source": []
  }
 ],
 "metadata": {
  "kernelspec": {
   "display_name": "Python 3",
   "language": "python",
   "name": "python3"
  },
  "language_info": {
   "codemirror_mode": {
    "name": "ipython",
    "version": 3
   },
   "file_extension": ".py",
   "mimetype": "text/x-python",
   "name": "python",
   "nbconvert_exporter": "python",
   "pygments_lexer": "ipython3",
   "version": "3.7.3"
  }
 },
 "nbformat": 4,
 "nbformat_minor": 2
}
