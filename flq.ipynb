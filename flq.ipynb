{
 "cells": [
  {
   "cell_type": "code",
   "execution_count": 7,
   "metadata": {},
   "outputs": [
    {
     "name": "stdout",
     "output_type": "stream",
     "text": [
      "Please input point1(latitude and longitude)in degrees39.55,-116.25\n",
      "Please input point2(latitude and longitude)in degrees41.5,87.37\n",
      "The distance between the two points is 10691.79 km\n"
     ]
    }
   ],
   "source": [
    "import math\n",
    "x1,y1=eval(input(\"Please input point1(latitude and longitude)in degrees\"))\n",
    "x2,y2=eval(input(\"Please input point2(latitude and longitude)in degrees\"))\n",
    "radius=6371.01\n",
    "x11=math.radians(x1)\n",
    "y11=math.radians(y1)\n",
    "x22=math.radians(x2)\n",
    "y22=math.radians(y2)\n",
    "d=radius*math.acos(math.sin(x11)*math.sin(x22)+math.cos(x11)*math.cos(x22)*math.cos(y11-y22))\n",
    "print(\"The distance between the two points is %5.2f km\"%d)"
   ]
  },
  {
   "cell_type": "markdown",
   "metadata": {},
   "source": [
    "上边的代码是算大圆距离的，咱也不知道咋回事儿，那边不能运行啦，就放了这边了。再也不会跳出那个框框，就这样写吧。反正也不看我的作业"
   ]
  },
  {
   "cell_type": "code",
   "execution_count": 8,
   "metadata": {
    "scrolled": false
   },
   "outputs": [
    {
     "name": "stdout",
     "output_type": "stream",
     "text": [
      "Please input the length from the center to a vertex5.5\n",
      "the area of the pentagon is 71.92\n"
     ]
    }
   ],
   "source": [
    "import math\n",
    "r=eval(input('Please input the length from the center to a vertex'))\n",
    "s=2*r*math.sin(math.pi/5)\n",
    "area=5*s**2/(4*math.tan(math.pi/5))\n",
    "print(\"the area of the pentagon is\",format(area,\"5.2f\"))"
   ]
  },
  {
   "cell_type": "markdown",
   "metadata": {},
   "source": [
    "上边的代码是算五边形的题。"
   ]
  },
  {
   "cell_type": "code",
   "execution_count": 9,
   "metadata": {},
   "outputs": [
    {
     "name": "stdout",
     "output_type": "stream",
     "text": [
      "请输入边长啊哈5.5\n",
      "the area of pentagon is 52.04\n"
     ]
    }
   ],
   "source": [
    "import math\n",
    "s=eval(input('请输入边长啊哈'))\n",
    "area=5*s**2/(4*math.tan(math.pi/5))\n",
    "print(\"the area of pentagon is\",format(area,\"5.2f\"))"
   ]
  },
  {
   "cell_type": "markdown",
   "metadata": {},
   "source": [
    "上边的代码是算五边形的，我还以为五角星，一闪一闪亮晶晶~"
   ]
  },
  {
   "cell_type": "code",
   "execution_count": 10,
   "metadata": {},
   "outputs": [
    {
     "name": "stdout",
     "output_type": "stream",
     "text": [
      "请输入边数最好少点5\n",
      "请输入边长啊哈6.5\n",
      "the area of pentagon is 72.69\n"
     ]
    }
   ],
   "source": [
    "import math\n",
    "n=eval(input('请输入边数最好少点'))\n",
    "s=eval(input('请输入边长啊哈'))\n",
    "area=n*s**2/(4*math.tan(math.pi/n))\n",
    "print(\"the area of pentagon is\",format(area,\"5.2f\"))"
   ]
  },
  {
   "cell_type": "markdown",
   "metadata": {},
   "source": [
    "莫名其妙的忽然会自己写了，照猫画虎学的超快哈哈哈，然而写了半天才到第四题......"
   ]
  },
  {
   "cell_type": "code",
   "execution_count": 14,
   "metadata": {},
   "outputs": [
    {
     "name": "stdout",
     "output_type": "stream",
     "text": [
      "qing shu ru yige ascii mazhi:69\n",
      "The character is: E\n"
     ]
    }
   ],
   "source": [
    "a=eval(input(\"qing shu ru yige ascii mazhi:\"))\n",
    "b=chr(a)\n",
    "print(\"The character is:\",b)"
   ]
  },
  {
   "cell_type": "markdown",
   "metadata": {},
   "source": [
    "刚会算面积，就让算ASC码，实在不想打英语了，也不想切换汉字了，拼音能看懂就行，刚才吧eval打成了eavl，自己竟然发现了错误哈哈哈哈哈哈"
   ]
  },
  {
   "cell_type": "code",
   "execution_count": 17,
   "metadata": {},
   "outputs": [
    {
     "name": "stdout",
     "output_type": "stream",
     "text": [
      "Please input employee's name:fuliqiong\n",
      "Please input number of hours worked in a week:10\n",
      "Please input hourly pay rate:9.75\n",
      "Please input state tax withholding rate:0.20\n",
      "Please input state tax withholding rate:0.09\n",
      "Employee Name: fuliqiong\n",
      "Hours Worked: 10\n",
      "Pay Rate: 9.75\n",
      "GrossPay: 97.5\n",
      "Deductions:\n",
      "\tFederal withholding(20.0%):KaTeX parse error:Expected'EOF',got'\\State' at position 19:...ederal\n",
      "\tTotal Deducyion: 28.275\n",
      "NetPay: 69.225\n"
     ]
    }
   ],
   "source": [
    "name=input(\"Please input employee's name:\")\n",
    "hours=eval(input(\"Please input number of hours worked in a week:\"))\n",
    "PayRate=eval(input(\"Please input hourly pay rate:\"))\n",
    "faderalRate=eval(input(\"Please input state tax withholding rate:\"))\n",
    "stateRate=eval(input(\"Please input state tax withholding rate:\"))\n",
    "Federal=hours*PayRate*faderalRate\n",
    "State=hours*PayRate*stateRate\n",
    "Gross=hours*PayRate\n",
    "NetPay=hours*PayRate-Federal-State\n",
    "Total=Federal+State\n",
    "print(\"Employee Name:\",name)\n",
    "print(\"Hours Worked:\",hours)\n",
    "print(\"Pay Rate:\",PayRate)\n",
    "print(\"GrossPay:\",Gross)\n",
    "print(\"Deductions:\")\n",
    "print(\"\\tFederal withholding(20.0%):KaTeX parse error:Expected'EOF',got'\\State' at position 19:...ederal\")\n",
    "print(\"\\tTotal Deducyion:\",Total)\n",
    "print(\"NetPay:\",NetPay)"
   ]
  },
  {
   "cell_type": "markdown",
   "metadata": {},
   "source": [
    "毫无疑问出错了，可是我已经写不下去了.哈哈哈自己查错成功，发现姓名和时间是同一个答案，哦~原来的打印的写错了哈哈哈哈开森\n",
    "ai!继续写吧还有三四道，哦不，两道"
   ]
  },
  {
   "cell_type": "code",
   "execution_count": 27,
   "metadata": {},
   "outputs": [
    {
     "ename": "IndentationError",
     "evalue": "expected an indented block (<ipython-input-27-96dcd0f9ff99>, line 2)",
     "output_type": "error",
     "traceback": [
      "\u001b[1;36m  File \u001b[1;32m\"<ipython-input-27-96dcd0f9ff99>\"\u001b[1;36m, line \u001b[1;32m2\u001b[0m\n\u001b[1;33m    str_x = str(number)\u001b[0m\n\u001b[1;37m        ^\u001b[0m\n\u001b[1;31mIndentationError\u001b[0m\u001b[1;31m:\u001b[0m expected an indented block\n"
     ]
    }
   ],
   "source": [
    "def reverse(number):\n",
    "str_x = str(number)\n",
    "for i in range(0,int(len(str_x))):\n",
    "print(str_x[-i-1])\n",
    "\n",
    "def main():\n",
    "numbel=eval(input(\"Please input a numbel:\"))\n",
    "print(reverse(numbel))\n",
    "\n",
    "main()"
   ]
  },
  {
   "cell_type": "code",
   "execution_count": 23,
   "metadata": {},
   "outputs": [
    {
     "ename": "IndentationError",
     "evalue": "expected an indented block (<ipython-input-23-345dfdea2172>, line 2)",
     "output_type": "error",
     "traceback": [
      "\u001b[1;36m  File \u001b[1;32m\"<ipython-input-23-345dfdea2172>\"\u001b[1;36m, line \u001b[1;32m2\u001b[0m\n\u001b[1;33m    numbel=eval(input(\"Please input a numbel:\"))\u001b[0m\n\u001b[1;37m         ^\u001b[0m\n\u001b[1;31mIndentationError\u001b[0m\u001b[1;31m:\u001b[0m expected an indented block\n"
     ]
    }
   ],
   "source": [
    "def main():\n",
    "numbel=eval(input(\"Please input a numbel:\"))\n",
    "print(reverse(numbel))\n",
    "main()"
   ]
  },
  {
   "cell_type": "code",
   "execution_count": 28,
   "metadata": {},
   "outputs": [
    {
     "name": "stdout",
     "output_type": "stream",
     "text": [
      "4 3 0 1\n"
     ]
    }
   ],
   "source": [
    "x=1234\n",
    "a=x%123\n",
    "b=x//10%12\n",
    "c=x//100%1\n",
    "d=x//1000\n",
    "print(a,b,c,d)"
   ]
  },
  {
   "cell_type": "markdown",
   "metadata": {},
   "source": [
    "这个真不会，搜到上边候先森的代码整不明白，不能理解更不能运行，然后借鉴一下写上了，明儿去问问吧"
   ]
  },
  {
   "cell_type": "markdown",
   "metadata": {},
   "source": [
    "第八题有了思路，但是困了，先睡觉。"
   ]
  },
  {
   "cell_type": "code",
   "execution_count": null,
   "metadata": {},
   "outputs": [],
   "source": []
  },
  {
   "cell_type": "code",
   "execution_count": null,
   "metadata": {},
   "outputs": [],
   "source": []
  }
 ],
 "metadata": {
  "kernelspec": {
   "display_name": "Python 3",
   "language": "python",
   "name": "python3"
  }
 },
 "nbformat": 4,
 "nbformat_minor": 2
}
