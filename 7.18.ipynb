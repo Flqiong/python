{
 "cells": [
  {
   "cell_type": "markdown",
   "metadata": {},
   "source": [
    "# 选择\n",
    "## 布尔类型、数值和表达式\n",
    "![](../Photo/33.png)\n",
    "- 注意：比较运算符的相等是两个等号，一个等到代表赋值\n",
    "- 在Python中可以用整型0来代表False，其他数字来代表True\n",
    "- 后面还会讲到 is 在判断语句中的用发"
   ]
  },
  {
   "cell_type": "code",
   "execution_count": 1,
   "metadata": {},
   "outputs": [
    {
     "data": {
      "text/plain": [
       "True"
      ]
     },
     "execution_count": 1,
     "metadata": {},
     "output_type": "execute_result"
    }
   ],
   "source": [
    "a=1\n",
    "b=1\n",
    "a==b"
   ]
  },
  {
   "cell_type": "code",
   "execution_count": 3,
   "metadata": {},
   "outputs": [
    {
     "ename": "TypeError",
     "evalue": "'>' not supported between instances of 'int' and 'str'",
     "output_type": "error",
     "traceback": [
      "\u001b[1;31m---------------------------------------------------------------------------\u001b[0m",
      "\u001b[1;31mTypeError\u001b[0m                                 Traceback (most recent call last)",
      "\u001b[1;32m<ipython-input-3-e28118d93682>\u001b[0m in \u001b[0;36m<module>\u001b[1;34m\u001b[0m\n\u001b[0;32m      1\u001b[0m \u001b[0ma\u001b[0m\u001b[1;33m=\u001b[0m\u001b[1;36m1\u001b[0m\u001b[1;33m\u001b[0m\u001b[1;33m\u001b[0m\u001b[0m\n\u001b[0;32m      2\u001b[0m \u001b[0mb\u001b[0m\u001b[1;33m=\u001b[0m\u001b[1;34m'2'\u001b[0m\u001b[1;33m\u001b[0m\u001b[1;33m\u001b[0m\u001b[0m\n\u001b[1;32m----> 3\u001b[1;33m \u001b[0ma\u001b[0m\u001b[1;33m>\u001b[0m\u001b[0mb\u001b[0m\u001b[1;33m\u001b[0m\u001b[1;33m\u001b[0m\u001b[0m\n\u001b[0m",
      "\u001b[1;31mTypeError\u001b[0m: '>' not supported between instances of 'int' and 'str'"
     ]
    }
   ],
   "source": [
    "a=1\n",
    "b='2'\n",
    "a>b\n"
   ]
  },
  {
   "cell_type": "code",
   "execution_count": 4,
   "metadata": {},
   "outputs": [
    {
     "data": {
      "text/plain": [
       "False"
      ]
     },
     "execution_count": 4,
     "metadata": {},
     "output_type": "execute_result"
    }
   ],
   "source": [
    "0 is 1"
   ]
  },
  {
   "cell_type": "code",
   "execution_count": 8,
   "metadata": {},
   "outputs": [
    {
     "data": {
      "text/plain": [
       "False"
      ]
     },
     "execution_count": 8,
     "metadata": {},
     "output_type": "execute_result"
    }
   ],
   "source": [
    "a='Joker'\n",
    "b='hahaha'\n",
    "a>b"
   ]
  },
  {
   "cell_type": "markdown",
   "metadata": {},
   "source": [
    "$x = 2x + 1$"
   ]
  },
  {
   "cell_type": "markdown",
   "metadata": {},
   "source": [
    "## Markdown \n",
    "- https://github.com/younghz/Markdown"
   ]
  },
  {
   "cell_type": "markdown",
   "metadata": {},
   "source": [
    "## EP:\n",
    "- <img src=\"../Photo/34.png\"></img>\n",
    "- 输入一个数字，判断其实奇数还是偶数"
   ]
  },
  {
   "cell_type": "code",
   "execution_count": 13,
   "metadata": {},
   "outputs": [
    {
     "name": "stdout",
     "output_type": "stream",
     "text": [
      "1\n"
     ]
    }
   ],
   "source": [
    "i=int(True)\n",
    "print(i)"
   ]
  },
  {
   "cell_type": "code",
   "execution_count": 14,
   "metadata": {},
   "outputs": [
    {
     "name": "stdout",
     "output_type": "stream",
     "text": [
      "True False\n"
     ]
    }
   ],
   "source": [
    "b1=bool(4)\n",
    "b2=bool(0)\n",
    "print(b1,b2)"
   ]
  },
  {
   "cell_type": "code",
   "execution_count": 27,
   "metadata": {},
   "outputs": [
    {
     "name": "stdout",
     "output_type": "stream",
     "text": [
      "请输入一个整数:98\n",
      "%d是一个偶数！\n",
      " 98\n"
     ]
    }
   ],
   "source": [
    "a=eval(input(\"请输入一个整数:\"))\n",
    "if (a%2==0):\n",
    "    print(\"%d是一个偶数！\\n\",a)\n",
    "else:\n",
    "     print(\"%d是一个奇数！\\n\",a)\n",
    "   "
   ]
  },
  {
   "cell_type": "markdown",
   "metadata": {},
   "source": [
    "## 产生随机数字\n",
    "- 函数random.randint(a,b) 可以用来产生一个a和b之间且包括a和b的随机整数"
   ]
  },
  {
   "cell_type": "code",
   "execution_count": 28,
   "metadata": {},
   "outputs": [],
   "source": [
    "import random\n"
   ]
  },
  {
   "cell_type": "markdown",
   "metadata": {},
   "source": [
    "产生一个随机数，你去输入，如果你输入的数大于随机数，那么就告诉你太大了，反之，太小了，\n",
    "然后你一直输入，知道它满意为止"
   ]
  },
  {
   "cell_type": "code",
   "execution_count": 29,
   "metadata": {},
   "outputs": [
    {
     "data": {
      "text/plain": [
       "10"
      ]
     },
     "execution_count": 29,
     "metadata": {},
     "output_type": "execute_result"
    }
   ],
   "source": [
    "random.randint(1,50)"
   ]
  },
  {
   "cell_type": "code",
   "execution_count": 37,
   "metadata": {},
   "outputs": [
    {
     "name": "stdout",
     "output_type": "stream",
     "text": [
      "请输入一个数:5\n",
      "5\n"
     ]
    }
   ],
   "source": [
    "a=eval(input(\"请输入一个数:\"))\n",
    "print(a)"
   ]
  },
  {
   "cell_type": "code",
   "execution_count": 48,
   "metadata": {},
   "outputs": [],
   "source": [
    "x=random.randint(1,50)"
   ]
  },
  {
   "cell_type": "code",
   "execution_count": 50,
   "metadata": {},
   "outputs": [
    {
     "name": "stdout",
     "output_type": "stream",
     "text": [
      "请输入一个数:35\n",
      "太大了\n",
      "我很满意\n"
     ]
    }
   ],
   "source": [
    "a=eval(input(\"请输入一个数:\"))\n",
    "\n",
    "if a>x:\n",
    "    print(\"太大了\")\n",
    "if a<x:\n",
    "    print(\"太小了\")\n",
    "else:\n",
    "    print(\"我很满意\")"
   ]
  },
  {
   "cell_type": "markdown",
   "metadata": {},
   "source": [
    "##  其他random方法\n",
    "- random.random 返回0.0到1.0之间前闭后开区间的随机浮点\n",
    "- random.randrange(a,b) 前闭后开"
   ]
  },
  {
   "cell_type": "markdown",
   "metadata": {},
   "source": [
    "## EP：\n",
    "- 产生两个随机整数number1和number2，然后显示给用户，使用户输入数字的和，并判定其是否正确\n",
    "- 进阶:写一个随机序号点名程序"
   ]
  },
  {
   "cell_type": "code",
   "execution_count": 51,
   "metadata": {},
   "outputs": [
    {
     "name": "stdout",
     "output_type": "stream",
     "text": [
      "8 13\n"
     ]
    }
   ],
   "source": [
    "n1=random.randint(1,10)\n",
    "n2=random.randrange(1,15)\n",
    "print(n1,n2)"
   ]
  },
  {
   "cell_type": "code",
   "execution_count": 52,
   "metadata": {},
   "outputs": [
    {
     "name": "stdout",
     "output_type": "stream",
     "text": [
      "请输入数字的和:15\n",
      "哈哈哈\n"
     ]
    }
   ],
   "source": [
    "a=eval(input(\"请输入数字的和:\"))\n",
    "if a==n1+n2:\n",
    "    print(\"正确\")\n",
    "else:\n",
    "    print(\"哈哈哈\")"
   ]
  },
  {
   "cell_type": "code",
   "execution_count": 55,
   "metadata": {},
   "outputs": [
    {
     "name": "stdout",
     "output_type": "stream",
     "text": [
      "请输入数字的和:16\n",
      "哈哈哈大啦\n",
      "没机会啦\n",
      "哈哈哈大啦\n",
      "没机会啦\n",
      "哈哈哈大啦\n",
      "没机会啦\n",
      "哈哈哈大啦\n",
      "没机会啦\n",
      "哈哈哈大啦\n",
      "没机会啦\n"
     ]
    }
   ],
   "source": [
    "n1=random.randint(1,10)\n",
    "n2=random.randrange(1,15)\n",
    "a=eval(input(\"请输入数字的和:\"))\n",
    "\n",
    "for i in range(5):\n",
    "\n",
    "    if a<n1+n2:\n",
    "        print(\"嘻嘻小了\")\n",
    "    if a>n1+n2:\n",
    "        print(\"哈哈哈大啦\")\n",
    "    if a==n1+n2:\n",
    "        break\n",
    "    else:\n",
    "        print(\"没机会啦\")\n",
    "        \n",
    "        "
   ]
  },
  {
   "cell_type": "code",
   "execution_count": 63,
   "metadata": {},
   "outputs": [
    {
     "name": "stdout",
     "output_type": "stream",
     "text": [
      "请输入一个数字:65\n",
      "可以整除 5\n",
      "可以整除 13\n"
     ]
    }
   ],
   "source": [
    "a=eval(input(\"请输入一个数字:\"))\n",
    "for i in range(2,a):\n",
    "    if a%i==0:\n",
    "        print(\"可以整除\",i)"
   ]
  },
  {
   "cell_type": "markdown",
   "metadata": {},
   "source": [
    "## if语句\n",
    "- 如果条件正确就执行一个单向if语句，亦即当条件为真的时候才执行if内部的语句\n",
    "- Python有很多选择语句:\n",
    "> - 单向if \n",
    "  - 双向if-else\n",
    "  - 嵌套if\n",
    "  - 多向if-elif-else\n",
    "  \n",
    "- 注意：当语句含有子语句的时候，那么一定至少要有一个缩进，也就是说如果有儿子存在，那么一定要缩进\n",
    "- 切记不可tab键和space混用，单用tab 或者 space\n",
    "- 当你输出的结果是无论if是否为真时都需要显示时，语句应该与if对齐"
   ]
  },
  {
   "cell_type": "markdown",
   "metadata": {},
   "source": [
    "## EP：\n",
    "- 用户输入一个数字，判断其实奇数还是偶数\n",
    "- 进阶：可以查看下4.5实例研究猜生日"
   ]
  },
  {
   "cell_type": "markdown",
   "metadata": {},
   "source": [
    "## 双向if-else 语句\n",
    "- 如果条件为真，那么走if内部语句，否则走else内部语句"
   ]
  },
  {
   "cell_type": "code",
   "execution_count": null,
   "metadata": {},
   "outputs": [],
   "source": [
    "if condition:\n",
    "    if condition\n",
    "        do something\n",
    "    else:\n",
    "        other\n",
    "    do something\n",
    "else:\n",
    "    other"
   ]
  },
  {
   "cell_type": "code",
   "execution_count": 8,
   "metadata": {},
   "outputs": [
    {
     "ename": "IndentationError",
     "evalue": "expected an indented block (<ipython-input-8-5bf94802d3d8>, line 5)",
     "output_type": "error",
     "traceback": [
      "\u001b[1;36m  File \u001b[1;32m\"<ipython-input-8-5bf94802d3d8>\"\u001b[1;36m, line \u001b[1;32m5\u001b[0m\n\u001b[1;33m    else:\u001b[0m\n\u001b[1;37m       ^\u001b[0m\n\u001b[1;31mIndentationError\u001b[0m\u001b[1;31m:\u001b[0m expected an indented block\n"
     ]
    }
   ],
   "source": [
    "shengao=eval(input(\"多高\"))\n",
    "tizhong=eval(input(\"多重\"))\n",
    "if shengao>=2.0:\n",
    "        if tizhong<70:\n",
    "        else:\n",
    "            print(\"\")\n",
    "else:\n",
    "    print(\"等我长高\")\n",
    "        \n"
   ]
  },
  {
   "cell_type": "code",
   "execution_count": 1,
   "metadata": {},
   "outputs": [
    {
     "name": "stdout",
     "output_type": "stream",
     "text": [
      "Money[y/n]n\n",
      "快去赚钱\n"
     ]
    }
   ],
   "source": [
    "#付立琼相亲记\n",
    "=input(\"Money[y/n]\")\n",
    "if money=='y':\n",
    "    print(\"fine~\")\n",
    "    fuji=eval(input(\"几块腹肌啊\"))\n",
    "    if fuji>=6:\n",
    "        print(\"good~\")\n",
    "        shengyin=input(\"好听吗[y/n]\")\n",
    "        if shengyin==y:\n",
    "            print(\"perfect\")\n",
    "        else:\n",
    "            print(\"我们不合适\")\n",
    "    else:\n",
    "        print(\"快去练腹肌吧\")\n",
    "else:\n",
    "    print(\"快去赚钱\")"
   ]
  },
  {
   "cell_type": "markdown",
   "metadata": {},
   "source": [
    "# EP：\n",
    "- 产生两个随机整数number1和number2，然后显示给用户，使用户输入数字，并判定其是否正确,如果正确打印“you‘re correct”，否则打印正确错误"
   ]
  },
  {
   "cell_type": "markdown",
   "metadata": {},
   "source": [
    "## 嵌套if 和多向if-elif-else\n",
    "![](../Photo/35.png)"
   ]
  },
  {
   "cell_type": "code",
   "execution_count": 5,
   "metadata": {},
   "outputs": [
    {
     "ename": "SyntaxError",
     "evalue": "invalid syntax (<ipython-input-5-ec7a63fad9b7>, line 5)",
     "output_type": "error",
     "traceback": [
      "\u001b[1;36m  File \u001b[1;32m\"<ipython-input-5-ec7a63fad9b7>\"\u001b[1;36m, line \u001b[1;32m5\u001b[0m\n\u001b[1;33m    elif handsome=='y':\u001b[0m\n\u001b[1;37m       ^\u001b[0m\n\u001b[1;31mSyntaxError\u001b[0m\u001b[1;31m:\u001b[0m invalid syntax\n"
     ]
    }
   ],
   "source": [
    "money=input('[y/n]')\n",
    "if moaney=='y':\n",
    "    g=\"ok\"\n",
    "    handsome=input('[y/n]')\n",
    "    elif handsome=='y':\n",
    "        g='能不能嫁'\n",
    "        shengao=eval(input(\">>\"))\n",
    "        elif shengao>=2.0:\n",
    "        g='不能嫁就算了'\n",
    "    else:\n",
    "        g='bujiale'\n",
    "print(g)"
   ]
  },
  {
   "cell_type": "markdown",
   "metadata": {},
   "source": [
    "## EP：\n",
    "- 提示用户输入一个年份，然后显示表示这一年的动物\n",
    "![](../Photo/36.png)\n",
    "- 计算身体质量指数的程序\n",
    "- BMI = 以千克为单位的体重除以以米为单位的身高的平方\n",
    "![](../Photo/37.png)"
   ]
  },
  {
   "cell_type": "code",
   "execution_count": 16,
   "metadata": {},
   "outputs": [
    {
     "name": "stdout",
     "output_type": "stream",
     "text": [
      "请输入年份2000\n",
      "龙\n"
     ]
    }
   ],
   "source": [
    "year=eval(input(\"请输入年份\"))\n",
    "a=year%12\n",
    "if a == 0:\n",
    "    animal='猴'\n",
    "elif a==1:\n",
    "    animal='鸡'\n",
    "elif a==2:\n",
    "    animal='狗'\n",
    "elif a==3:\n",
    "    animal='猪'\n",
    "elif a==4:\n",
    "    animal='鼠'\n",
    "elif a==5:\n",
    "    animal='牛'\n",
    "elif a==6:\n",
    "    animal='虎'\n",
    "elif a==7:\n",
    "    animal='兔'\n",
    "elif a==8:\n",
    "    animal='龙'\n",
    "elif a==9:\n",
    "    animal='蛇'\n",
    "elif a==10:\n",
    "    animal='马'\n",
    "elif a==11:\n",
    "    animal='羊'\n",
    "print(animal)"
   ]
  },
  {
   "cell_type": "code",
   "execution_count": 23,
   "metadata": {},
   "outputs": [
    {
     "name": "stdout",
     "output_type": "stream",
     "text": [
      "请输入体重:88\n",
      "请输入身高1.4\n",
      "超轻\n"
     ]
    }
   ],
   "source": [
    "weight=eval(input(\"请输入体重:\"))\n",
    "high=eval(input(\"请输入身高\"))\n",
    "BMI=weight/high/high\n",
    "if BMI<=18.5:\n",
    "    jieshi='超轻'\n",
    "elif BMI>:\n",
    "    jieshi='标准'\n",
    "print(jieshi)"
   ]
  },
  {
   "cell_type": "code",
   "execution_count": 13,
   "metadata": {},
   "outputs": [
    {
     "ename": "SyntaxError",
     "evalue": "invalid syntax (<ipython-input-13-0fe30233e889>, line 3)",
     "output_type": "error",
     "traceback": [
      "\u001b[1;36m  File \u001b[1;32m\"<ipython-input-13-0fe30233e889>\"\u001b[1;36m, line \u001b[1;32m3\u001b[0m\n\u001b[1;33m    if a = 0:\u001b[0m\n\u001b[1;37m         ^\u001b[0m\n\u001b[1;31mSyntaxError\u001b[0m\u001b[1;31m:\u001b[0m invalid syntax\n"
     ]
    }
   ],
   "source": [
    "year=eval(input(\"请输入年份\"))\n",
    "a=year%12\n",
    "if a = 0:\n",
    "    print(a)"
   ]
  },
  {
   "cell_type": "markdown",
   "metadata": {},
   "source": [
    "## 逻辑运算符\n",
    "![](../Photo/38.png)"
   ]
  },
  {
   "cell_type": "markdown",
   "metadata": {},
   "source": [
    "![](../Photo/39.png)\n",
    "![](../Photo/40.png)"
   ]
  },
  {
   "cell_type": "markdown",
   "metadata": {},
   "source": [
    "## EP：\n",
    "- 判定闰年：一个年份如果能被4整除但不能被100整除，或者能被400整除，那么这个年份就是闰年\n",
    "- 提示用户输入一个年份，并返回是否是闰年\n",
    "- 提示用户输入一个数字，判断其是否为水仙花数"
   ]
  },
  {
   "cell_type": "code",
   "execution_count": 30,
   "metadata": {},
   "outputs": [
    {
     "name": "stdout",
     "output_type": "stream",
     "text": [
      "请输入一个年份:2015\n",
      "2015 不是闰年\n"
     ]
    }
   ],
   "source": [
    "a=eval(input(\"请输入一个年份:\"))\n",
    "if a%4==0 and a%100!=0 or a%400==0:\n",
    "    print(a,\"是闰年\")\n",
    "else:\n",
    "    print(a,\"不是闰年\")"
   ]
  },
  {
   "cell_type": "code",
   "execution_count": 5,
   "metadata": {},
   "outputs": [
    {
     "name": "stdout",
     "output_type": "stream",
     "text": [
      "请输入一个数字153\n",
      "水仙花\n"
     ]
    }
   ],
   "source": [
    "n=int(input(\"请输入一个数字\"))\n",
    "ge_n=n%10\n",
    "bai_n=n//100\n",
    "shi_n=n//10%10\n",
    "if ge_n**3 + shi_n**3 + bai_n**3==n:\n",
    "    print(\"水仙花\")"
   ]
  },
  {
   "cell_type": "code",
   "execution_count": 12,
   "metadata": {},
   "outputs": [
    {
     "name": "stdout",
     "output_type": "stream",
     "text": [
      "153\n",
      "370\n",
      "371\n",
      "407\n"
     ]
    }
   ],
   "source": [
    "for i in range(100,1000):\n",
    "    a=i//100\n",
    "    b=i//10%10\n",
    "    c=i%10\n",
    "    if i==a**3+b**3+c**3:\n",
    "        print(i)"
   ]
  },
  {
   "cell_type": "markdown",
   "metadata": {},
   "source": [
    "## 实例研究：彩票\n",
    "![](../Photo/41.png)"
   ]
  },
  {
   "cell_type": "markdown",
   "metadata": {},
   "source": [
    "# Homework\n",
    "- 1\n",
    "![](../Photo/42.png)"
   ]
  },
  {
   "cell_type": "code",
   "execution_count": 15,
   "metadata": {},
   "outputs": [],
   "source": [
    "import math"
   ]
  },
  {
   "cell_type": "code",
   "execution_count": 23,
   "metadata": {},
   "outputs": [
    {
     "name": "stdout",
     "output_type": "stream",
     "text": [
      "请输入三个值1,2,3\n",
      "The equation has no real roots\n"
     ]
    }
   ],
   "source": [
    "a,b,c=eval(input(\"请输入三个值\"))\n",
    "p=b*2-4*a*c\n",
    "r1=(-b+p**0.5)/2*a\n",
    "r2=(-b-p**0.5)/2*a\n",
    "if p>0:\n",
    "    print(r1,r2)\n",
    "if p==0:\n",
    "    print(r1)\n",
    "if p<0:\n",
    "    print(\"The equation has no real roots\")"
   ]
  },
  {
   "cell_type": "markdown",
   "metadata": {},
   "source": [
    "-- 2\n",
    "![](../Photo/43.png)"
   ]
  },
  {
   "cell_type": "code",
   "execution_count": 24,
   "metadata": {},
   "outputs": [],
   "source": [
    "import random"
   ]
  },
  {
   "cell_type": "code",
   "execution_count": 25,
   "metadata": {},
   "outputs": [
    {
     "name": "stdout",
     "output_type": "stream",
     "text": [
      "请输入两个随机整数的和:25\n",
      "滚！\n"
     ]
    }
   ],
   "source": [
    "n1=random.randint(1,100)\n",
    "n2=random.randint(1,100)\n",
    "sum=eval(input(\"请输入两个随机整数的和:\"))\n",
    "if sum==n1+n2:\n",
    "    print(\"Ture!\")\n",
    "else:\n",
    "    print(\"滚！\")"
   ]
  },
  {
   "cell_type": "markdown",
   "metadata": {},
   "source": [
    "- 3\n",
    "![](../Photo/44.png)"
   ]
  },
  {
   "cell_type": "code",
   "execution_count": 50,
   "metadata": {},
   "outputs": [
    {
     "name": "stdout",
     "output_type": "stream",
     "text": [
      "请输入今天是一周内哪一天的数字1\n",
      "今天后到未来某天的天数4\n",
      "Today is  Tuesday and the future day is  Saturday\n"
     ]
    }
   ],
   "source": [
    "a=eval(input(\"请输入今天是一周内哪一天的数字\"))\n",
    "b=eval(input(\"今天后到未来某天的天数\"))\n",
    "if a == 0:\n",
    "    today='Monday'\n",
    "elif a==1:\n",
    "    today='Tuesday'\n",
    "elif a==2:\n",
    "    today='Wednesday'\n",
    "elif a==3:\n",
    "    today='Thursday'\n",
    "elif a==4:\n",
    "    today='Friday'\n",
    "elif a==5:\n",
    "    today='Saturday'\n",
    "elif a==6:\n",
    "    today='Sunday'\n",
    "    c=(a+b)%7\n",
    "    if c == 0:\n",
    "        future='Monday'\n",
    "    elif c==1:\n",
    "        future='Tuesday'\n",
    "    elif c==2:\n",
    "        future='Wednesday'\n",
    "    elif c==3:\n",
    "        future='Thursday'\n",
    "    elif c==4:\n",
    "        future='Friday'\n",
    "    elif c==5:\n",
    "        future='Saturday'\n",
    "    elif c==6:\n",
    "        future='Sunday'\n",
    "print(\"Today is \",today,\"and the future day is \",future)"
   ]
  },
  {
   "cell_type": "code",
   "execution_count": 47,
   "metadata": {},
   "outputs": [
    {
     "name": "stdout",
     "output_type": "stream",
     "text": [
      "请输入今天是一周内哪一天的数字5\n",
      "今天后到未来某天的天数7\n",
      "Today is Saturday\n"
     ]
    }
   ],
   "source": [
    "a=eval(input(\"请输入今天是一周内哪一天的数字\"))\n",
    "b=eval(input(\"今天后到未来某天的天数\"))\n",
    "c=(a+b)%7\n",
    "if c == 0:\n",
    "    future='Monday'\n",
    "elif c==1:\n",
    "    future='Tuesday'\n",
    "elif c==2:\n",
    "    future='Wednesday'\n",
    "elif c==3:\n",
    "    future='Thursday'\n",
    "elif c==4:\n",
    "    future='Friday'\n",
    "elif c==5:\n",
    "    future='Saturday'\n",
    "elif c==6:\n",
    "    future='Sunday'\n",
    "print(\"Today is\",future)"
   ]
  },
  {
   "cell_type": "code",
   "execution_count": 34,
   "metadata": {},
   "outputs": [
    {
     "name": "stdout",
     "output_type": "stream",
     "text": [
      "请输入今天是一周内哪一天的数字4\n",
      "今天后到未来某天的天数5\n",
      "2\n"
     ]
    }
   ],
   "source": [
    "a=eval(input(\"请输入今天是一周内哪一天的数字\"))\n",
    "b=eval(input(\"今天后到未来某天的天数\"))\n",
    "c=(a+b)%7\n",
    "print(c)"
   ]
  },
  {
   "cell_type": "markdown",
   "metadata": {},
   "source": [
    "- 4\n",
    "![](../Photo/45.png)"
   ]
  },
  {
   "cell_type": "code",
   "execution_count": 54,
   "metadata": {},
   "outputs": [
    {
     "name": "stdout",
     "output_type": "stream",
     "text": [
      "请输入三个整数8,1,19\n",
      "1 8 19\n"
     ]
    }
   ],
   "source": [
    "a,b,c=eval(input(\"请输入三个整数\"))\n",
    "if a>b>c:\n",
    "    print(c,b,a)\n",
    "elif a>c>b:\n",
    "    print(b,c,a)\n",
    "elif b>c>a:\n",
    "    print(a,c,b)\n",
    "elif b>a>c:\n",
    "    print(c,a,b)\n",
    "elif c>a>b:\n",
    "    print(b,a,c)\n",
    "elif c>b>a:\n",
    "    print(a,b,c)"
   ]
  },
  {
   "cell_type": "markdown",
   "metadata": {},
   "source": [
    "- 5\n",
    "![](../Photo/46.png)"
   ]
  },
  {
   "cell_type": "code",
   "execution_count": 56,
   "metadata": {},
   "outputs": [
    {
     "name": "stdout",
     "output_type": "stream",
     "text": [
      "请输入包装的重量和价钱50,24.59\n",
      "请输入包装的重量和价钱25,11.99\n",
      "Package 2 has the better price\n"
     ]
    }
   ],
   "source": [
    "x1,y1=eval(input(\"请输入包装的重量和价钱\"))\n",
    "x2,y2=eval(input(\"请输入包装的重量和价钱\"))\n",
    "if (x1*y1<x2*y2):\n",
    "    print(\"Package\",1,\"has the better price\")\n",
    "if (x1*y1>x2*y2):\n",
    "    print(\"Package\",2,\"has the better price\")"
   ]
  },
  {
   "cell_type": "markdown",
   "metadata": {},
   "source": [
    "- 6\n",
    "![](../Photo/47.png)"
   ]
  },
  {
   "cell_type": "code",
   "execution_count": null,
   "metadata": {},
   "outputs": [],
   "source": [
    "m,y=eval(input(\"请输入月和年\"))\n",
    "m=(1,2)\n",
    "if m in range(1,1):"
   ]
  },
  {
   "cell_type": "markdown",
   "metadata": {},
   "source": [
    "令人烦躁的问题，不会做怎么办呢？不想写太长，又想不出太短的....主要是太短的那个集合不会写，作业都写成日记了，杨锦月说这个定律很准，我觉得没啥事，就这样吧。上课的时候问问吧，又觉的是之前学过的，可能会挨骂阿阿阿阿阿睡了"
   ]
  },
  {
   "cell_type": "code",
   "execution_count": 62,
   "metadata": {},
   "outputs": [
    {
     "name": "stdout",
     "output_type": "stream",
     "text": [
      "请输入11\n",
      "31\n"
     ]
    }
   ],
   "source": [
    "m=eval(input(\"请输入\"))\n",
    "if m in range(1,12):\n",
    "    print(31)"
   ]
  },
  {
   "cell_type": "markdown",
   "metadata": {},
   "source": [
    "- 7\n",
    "![](../Photo/48.png)"
   ]
  },
  {
   "cell_type": "code",
   "execution_count": 96,
   "metadata": {},
   "outputs": [
    {
     "name": "stdout",
     "output_type": "stream",
     "text": [
      "请输入一个猜测值0\n",
      "False\n"
     ]
    }
   ],
   "source": [
    "mian=random.randint(0,1)\n",
    "a=eval(input(\"请输入一个猜测值\"))\n",
    "if a==mian:\n",
    "    print(\"Ture\")\n",
    "else:\n",
    "    print(\"False\")"
   ]
  },
  {
   "cell_type": "markdown",
   "metadata": {},
   "source": [
    "- 8\n",
    "![](../Photo/49.png)"
   ]
  },
  {
   "cell_type": "code",
   "execution_count": 69,
   "metadata": {},
   "outputs": [
    {
     "name": "stdout",
     "output_type": "stream",
     "text": [
      "请输入数字2\n",
      "你输了\n"
     ]
    }
   ],
   "source": [
    "c=random.randint(0,3)\n",
    "u=eval(input(\"请输入数字\"))\n",
    "if c==0 and u==1:\n",
    "    print(\"你赢了\")\n",
    "    if c==1 and u==2:\n",
    "        print(\"你赢了\")\n",
    "        if c==2 and u==0:\n",
    "            print(\"你赢了\")\n",
    "            if c==u:\n",
    "                print(\"平局\")\n",
    "        else:\n",
    "            print(\"你输了\")\n",
    "    else:\n",
    "        print(\"你输了\")\n",
    "else:\n",
    "    print(\"你输了\")"
   ]
  },
  {
   "cell_type": "markdown",
   "metadata": {},
   "source": [
    "- 9\n",
    "![](../Photo/50.png)"
   ]
  },
  {
   "cell_type": "code",
   "execution_count": 87,
   "metadata": {},
   "outputs": [
    {
     "name": "stdout",
     "output_type": "stream",
     "text": [
      "输入年份2012\n",
      "输入月份5\n",
      "输入天数12\n",
      "day of the Sat\n"
     ]
    }
   ],
   "source": [
    "year = eval(input('输入年份'))\n",
    "m = eval(input('输入月份'))\n",
    "q = eval(input('输入天数'))\n",
    "if m>=3:\n",
    "    j = year/100\n",
    "    k = year%100\n",
    "    h1 = int(q)+int((26*(m+1))/10)\n",
    "    h2 = int(k+k/4+j/4+5*j)\n",
    "    x = (h1+h2)%7\n",
    "    h = math.floor(x)\n",
    "    if h == 0:\n",
    "        print('day of the Sat')     \n",
    "    if h == 1:\n",
    "        print('day of the Sun')\n",
    "    if h == 2:\n",
    "        print('day of the Mon')\n",
    "    if h == 3:\n",
    "        print('day of the Tue')\n",
    "    if h == 4:\n",
    "        print('day of the Wed')\n",
    "    if h == 5:\n",
    "        print('day of the Thu')\n",
    "    if h == 6:\n",
    "        print('day of the Fri')\n",
    "if m==1:\n",
    "    m1=13\n",
    "    j = (year-1)/100\n",
    "    k = (year-1)%100\n",
    "    h1 = int(q)+int((26*(m1+1))/10)\n",
    "    h2 = int(k+k/4+j/4+5*j)\n",
    "    x = (h1+h2)%7\n",
    "    h = math.floor(x)\n",
    "    if h == 0:\n",
    "        print('day of the Sat')\n",
    "    if h == 1:\n",
    "        print('day of the Sun')\n",
    "    if h == 2:\n",
    "        print('day of the Mon')\n",
    "    if h == 3:\n",
    "        print('day of the Tue')\n",
    "    if h == 4:\n",
    "        print('day of the Wed')\n",
    "    if h == 5:\n",
    "        print('day of the Thu')\n",
    "    if h == 6:\n",
    "        print('day of the Fri')\n",
    "if m==2:\n",
    "    m1=14\n",
    "    j = (year-1)/100\n",
    "    k = (year-1)%100\n",
    "    h1 = int(q)+int((26*(m1+1))/10)\n",
    "    h2 = int(k+k/4+j/4+5*j)\n",
    "    x = (h1+h2)%7\n",
    "    h = math.floor(x)\n",
    "    if h == 0:\n",
    "        print('day of the Sat')\n",
    "    if h == 1:\n",
    "        print('day of the Sun')\n",
    "    if h == 2:\n",
    "        print('day of the Mon')\n",
    "    if h == 3:\n",
    "        print('day of the Tue')\n",
    "    if h == 4:\n",
    "        print('day of the Wed')\n",
    "    if h == 5:\n",
    "        print('day of the Thu')\n",
    "    if h == 6:\n",
    "        print('day of the Fri')"
   ]
  },
  {
   "cell_type": "markdown",
   "metadata": {},
   "source": [
    "- 10\n",
    "![](../Photo/51.png)"
   ]
  },
  {
   "cell_type": "code",
   "execution_count": 89,
   "metadata": {},
   "outputs": [
    {
     "name": "stdout",
     "output_type": "stream",
     "text": [
      "The card you picked is King of 方块\n"
     ]
    }
   ],
   "source": [
    "a=random.randint(1,13)\n",
    "b=random.randint(14,17)\n",
    "if a==1:\n",
    "    a='Ace'\n",
    "if a==11:\n",
    "    a='Jack'\n",
    "if a==12:\n",
    "    a='Queen'\n",
    "if a==13:\n",
    "    a='King'\n",
    "if b==14:\n",
    "    b='梅花'\n",
    "if b==15:\n",
    "    b='红桃'\n",
    "if b==16:\n",
    "    b='方块'\n",
    "if b==17:\n",
    "    b='黑桃'\n",
    "print('The card you picked is',a,'of',b)"
   ]
  },
  {
   "cell_type": "markdown",
   "metadata": {},
   "source": [
    "- 11\n",
    "![](../Photo/52.png)"
   ]
  },
  {
   "cell_type": "code",
   "execution_count": 86,
   "metadata": {},
   "outputs": [
    {
     "name": "stdout",
     "output_type": "stream",
     "text": [
      "请输入一个三位数:464\n",
      "464 is a palindrome\n"
     ]
    }
   ],
   "source": [
    "n=eval(input(\"请输入一个三位数:\"))\n",
    "ge_n=n%10\n",
    "bai_n=n//100\n",
    "if ge_n==bai_n:\n",
    "    print(n,\"is a palindrome\")\n",
    "else:\n",
    "    print(n,\"is not a palindrome\")"
   ]
  },
  {
   "cell_type": "markdown",
   "metadata": {},
   "source": [
    "- 12\n",
    "![](../Photo/53.png)"
   ]
  },
  {
   "cell_type": "code",
   "execution_count": 103,
   "metadata": {},
   "outputs": [
    {
     "name": "stdout",
     "output_type": "stream",
     "text": [
      "这个输入是非法的\n"
     ]
    }
   ],
   "source": [
    "a=random.randint(1,100)\n",
    "b=random.randint(1,100)\n",
    "c=random.randint(1,100)\n",
    "p=a+b+c\n",
    "if a+b>c and a+c>b and c+b>a:\n",
    "    print(p)\n",
    "else:\n",
    "    print(\"这个输入是非法的\")"
   ]
  },
  {
   "cell_type": "code",
   "execution_count": 102,
   "metadata": {},
   "outputs": [
    {
     "name": "stdout",
     "output_type": "stream",
     "text": [
      "输入三条边1,5,3\n",
      "这个输入是非法的\n"
     ]
    }
   ],
   "source": [
    "a,b,c=eval(input(\"输入三条边\"))\n",
    "p=a+b+c\n",
    "if a+b>c and a+c>b and c+b>a:\n",
    "    print(p)\n",
    "else:\n",
    "    print(\"这个输入是非法的\")"
   ]
  },
  {
   "cell_type": "markdown",
   "metadata": {},
   "source": [
    "房间内有100人，每人有100块，每分钟随机给另一个人1块，最后这个房间内的财富分布怎样？"
   ]
  },
  {
   "cell_type": "code",
   "execution_count": null,
   "metadata": {},
   "outputs": [],
   "source": []
  }
 ],
 "metadata": {
  "kernelspec": {
   "display_name": "Python 3",
   "language": "python",
   "name": "python3"
  },
  "language_info": {
   "codemirror_mode": {
    "name": "ipython",
    "version": 3
   },
   "file_extension": ".py",
   "mimetype": "text/x-python",
   "name": "python",
   "nbconvert_exporter": "python",
   "pygments_lexer": "ipython3",
   "version": "3.7.3"
  }
 },
 "nbformat": 4,
 "nbformat_minor": 2
}
